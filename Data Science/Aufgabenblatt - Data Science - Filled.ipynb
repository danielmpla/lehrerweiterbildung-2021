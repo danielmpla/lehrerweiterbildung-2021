{
 "cells": [
  {
   "cell_type": "markdown",
   "id": "f46d9a20",
   "metadata": {},
   "source": [
    "# Aufgabenblatt - Data Science\n",
    "\n",
    "## Aufgabe 1: Arrayoperationen mit Numpy\n",
    "\n",
    "Erstellen Sie ein Numpy Array welches alle geraden Zahlen von 0-100 enthält."
   ]
  },
  {
   "cell_type": "code",
   "execution_count": 6,
   "id": "aadfecbd",
   "metadata": {},
   "outputs": [
    {
     "name": "stdout",
     "output_type": "stream",
     "text": [
      "[  0   2   4   6   8  10  12  14  16  18  20  22  24  26  28  30  32  34\n",
      "  36  38  40  42  44  46  48  50  52  54  56  58  60  62  64  66  68  70\n",
      "  72  74  76  78  80  82  84  86  88  90  92  94  96  98 100]\n"
     ]
    }
   ],
   "source": [
    "import numpy as np\n",
    "\n",
    "# Ihr Code hier:\n",
    "\n",
    "print(even)"
   ]
  },
  {
   "cell_type": "markdown",
   "id": "a1714ee9",
   "metadata": {},
   "source": [
    "Erstellen Sie ein Numpy Array welches alle ungeraden Zahlen von 0-100 enthält."
   ]
  },
  {
   "cell_type": "code",
   "execution_count": 7,
   "id": "abafd967",
   "metadata": {},
   "outputs": [
    {
     "name": "stdout",
     "output_type": "stream",
     "text": [
      "[ 1  3  5  7  9 11 13 15 17 19 21 23 25 27 29 31 33 35 37 39 41 43 45 47\n",
      " 49 51 53 55 57 59 61 63 65 67 69 71 73 75 77 79 81 83 85 87 89 91 93 95\n",
      " 97 99]\n"
     ]
    }
   ],
   "source": [
    "#Ihr Code hier:\n",
    "\n",
    "print(uneven)"
   ]
  },
  {
   "cell_type": "markdown",
   "id": "f092b2b0",
   "metadata": {},
   "source": [
    "Filtern Sie das Array mit den ungeraden Zahlen, sodass nur noch Primzahlen enthalten bleiben.\n",
    "\n",
    "Tipp: Nutzen Sie eine separate Methode zum Erkennen von Primzahlen."
   ]
  },
  {
   "cell_type": "code",
   "execution_count": 8,
   "id": "1ee5f30b",
   "metadata": {},
   "outputs": [
    {
     "name": "stdout",
     "output_type": "stream",
     "text": [
      "[ 3  5  7 11 13 17 19 23 29 31 37 41 43 47 53 59 61 67 71 73 79 83 89 97]\n"
     ]
    }
   ],
   "source": [
    "def is_prime(n):\n",
    "    # Ihr Code hier:\n",
    "\n",
    "# Ihr Code zum Filtern des Arrays hier:\n",
    "\n",
    "print(prime)"
   ]
  },
  {
   "cell_type": "markdown",
   "id": "48a74edf",
   "metadata": {},
   "source": [
    "## Aufgabe 2: Daten filtern mit Pandas\n",
    "\n",
    "Erstellen Sie ein Bar Chart welches die Häufigkeit der Vergabe des männlichen Namens Paul im Jahr 1983 an der Westküste der USA darstellt. Eine Liste mit den Kürzeln der Staaten ist bereits vorgegeben.\n",
    "\n",
    "Lesen Sie dazu die Datei `.data/names.csv` mit Pandas ein und nehmen eine entsprechende Filterung der Daten vor. Den Graphen können sie mit Matplotlib erstellen. Einfache Bar Charts sind mit dem Befehl `plt.bar()` analog zu `plt.plot()` möglich."
   ]
  },
  {
   "cell_type": "code",
   "execution_count": 5,
   "id": "8336956f",
   "metadata": {},
   "outputs": [
    {
     "data": {
      "image/png": "[encoded data removed]",
      "text/plain": [
       "<Figure size 432x288 with 1 Axes>"
      ]
     },
     "metadata": {
      "needs_background": "light"
     },
     "output_type": "display_data"
    }
   ],
   "source": [
    "%matplotlib inline\n",
    "import pandas as pd\n",
    "import matplotlib.pyplot as plt\n",
    "\n",
    "states = [\"ME\", \"NH\", \"MA\", \"RI\", \"CT\", \"NJ\", \"DE\", \"MD\", \"DC\", \"VA\", \"NC\", \"SC\", \"GA\", \"FL\"]\n",
    "\n",
    "# Ihr Code hier:\n",
    "\n",
    "plt.show()"
   ]
  },
  {
   "cell_type": "markdown",
   "id": "eb04707f",
   "metadata": {},
   "source": [
    "## Aufgabe 3: Webdaten extrahieren und verarbeiten mit Pandas\n",
    "\n",
    "Im Folgenden wird die aktuelle Übersicht der Coronafälle in den Städten und Gemeinden im Landkreis Görlitz aus dem Web extrahiert."
   ]
  },
  {
   "cell_type": "code",
   "execution_count": 42,
   "id": "20f8bfb9",
   "metadata": {},
   "outputs": [
    {
     "data": {
      "text/html": [
       "<div>\n",
       "<style scoped>\n",
       "    .dataframe tbody tr th:only-of-type {\n",
       "        vertical-align: middle;\n",
       "    }\n",
       "\n",
       "    .dataframe tbody tr th {\n",
       "        vertical-align: top;\n",
       "    }\n",
       "\n",
       "    .dataframe thead th {\n",
       "        text-align: right;\n",
       "    }\n",
       "</style>\n",
       "<table border=\"1\" class=\"dataframe\">\n",
       "  <thead>\n",
       "    <tr style=\"text-align: right;\">\n",
       "      <th></th>\n",
       "      <th>Stadt / Gemeinde</th>\n",
       "      <th>Einwohner-zahl (12/2019)</th>\n",
       "      <th>Coronafälle (gesamt)</th>\n",
       "      <th>Veränderung zum Vortag</th>\n",
       "      <th>Positiv PCR - getestete Personen in Quarantäne</th>\n",
       "      <th>Kontakt-personen in Quarantäne</th>\n",
       "      <th>Todesfälle (davon-neue)</th>\n",
       "    </tr>\n",
       "  </thead>\n",
       "  <tbody>\n",
       "    <tr>\n",
       "      <th>0</th>\n",
       "      <td>Bad Muskau</td>\n",
       "      <td>3681.0</td>\n",
       "      <td>295.0</td>\n",
       "      <td>0.0</td>\n",
       "      <td>1.0</td>\n",
       "      <td>0.0</td>\n",
       "      <td>22.0</td>\n",
       "    </tr>\n",
       "    <tr>\n",
       "      <th>1</th>\n",
       "      <td>Beiersdorf</td>\n",
       "      <td>1129.0</td>\n",
       "      <td>110.0</td>\n",
       "      <td>0.0</td>\n",
       "      <td>1.0</td>\n",
       "      <td>0.0</td>\n",
       "      <td>5.0</td>\n",
       "    </tr>\n",
       "    <tr>\n",
       "      <th>2</th>\n",
       "      <td>Bernstadt a. d. Eigen</td>\n",
       "      <td>3298.0</td>\n",
       "      <td>351.0</td>\n",
       "      <td>0.0</td>\n",
       "      <td>0.0</td>\n",
       "      <td>0.0</td>\n",
       "      <td>11.0</td>\n",
       "    </tr>\n",
       "    <tr>\n",
       "      <th>3</th>\n",
       "      <td>Bertsdorf-Hörnitz</td>\n",
       "      <td>2046.0</td>\n",
       "      <td>184.0</td>\n",
       "      <td>0.0</td>\n",
       "      <td>3.0</td>\n",
       "      <td>2.0</td>\n",
       "      <td>9.0</td>\n",
       "    </tr>\n",
       "    <tr>\n",
       "      <th>4</th>\n",
       "      <td>Boxberg/O.L.</td>\n",
       "      <td>4337.0</td>\n",
       "      <td>363.0</td>\n",
       "      <td>0.0</td>\n",
       "      <td>0.0</td>\n",
       "      <td>0.0</td>\n",
       "      <td>29.0</td>\n",
       "    </tr>\n",
       "  </tbody>\n",
       "</table>\n",
       "</div>"
      ],
      "text/plain": [
       "        Stadt / Gemeinde  Einwohner-zahl (12/2019)  Coronafälle (gesamt)  \\\n",
       "0             Bad Muskau                    3681.0                 295.0   \n",
       "1             Beiersdorf                    1129.0                 110.0   \n",
       "2  Bernstadt a. d. Eigen                    3298.0                 351.0   \n",
       "3      Bertsdorf-Hörnitz                    2046.0                 184.0   \n",
       "4           Boxberg/O.L.                    4337.0                 363.0   \n",
       "\n",
       "   Veränderung zum Vortag  Positiv PCR - getestete Personen in Quarantäne  \\\n",
       "0                     0.0                                             1.0   \n",
       "1                     0.0                                             1.0   \n",
       "2                     0.0                                             0.0   \n",
       "3                     0.0                                             3.0   \n",
       "4                     0.0                                             0.0   \n",
       "\n",
       "   Kontakt-personen in Quarantäne  Todesfälle (davon-neue)  \n",
       "0                             0.0                     22.0  \n",
       "1                             0.0                      5.0  \n",
       "2                             0.0                     11.0  \n",
       "3                             2.0                      9.0  \n",
       "4                             0.0                     29.0  "
      ]
     },
     "execution_count": 42,
     "metadata": {},
     "output_type": "execute_result"
    }
   ],
   "source": [
    "import pandas as pd\n",
    "import requests\n",
    "import lxml\n",
    "import html5lib\n",
    "\n",
    "res = requests.get('https://www.kreis-goerlitz.de/Aktuelles/Coronavirus.htm/Seiten/Corona-Tabelle-Gemeinden.html?')\n",
    "\n",
    "# Die Methode 'read_html()' gibt eine Liste von DataFrames zurück\n",
    "df_corona = pd.read_html(res.text)[0]\n",
    "df_corona.head()"
   ]
  },
  {
   "cell_type": "markdown",
   "id": "032232df",
   "metadata": {},
   "source": [
    "1. Erstellen Sie eine neue Spalte `Fälle pro Einwohner`, die die Anzahl der gesamten Coronafälle prozentual (zwischen 0 und 100) im Verhältnis zur Einwohnerzahl angibt."
   ]
  },
  {
   "cell_type": "code",
   "execution_count": 44,
   "id": "b1e922c3",
   "metadata": {},
   "outputs": [
    {
     "data": {
      "text/html": [
       "<div>\n",
       "<style scoped>\n",
       "    .dataframe tbody tr th:only-of-type {\n",
       "        vertical-align: middle;\n",
       "    }\n",
       "\n",
       "    .dataframe tbody tr th {\n",
       "        vertical-align: top;\n",
       "    }\n",
       "\n",
       "    .dataframe thead th {\n",
       "        text-align: right;\n",
       "    }\n",
       "</style>\n",
       "<table border=\"1\" class=\"dataframe\">\n",
       "  <thead>\n",
       "    <tr style=\"text-align: right;\">\n",
       "      <th></th>\n",
       "      <th>Stadt / Gemeinde</th>\n",
       "      <th>Einwohner-zahl (12/2019)</th>\n",
       "      <th>Coronafälle (gesamt)</th>\n",
       "      <th>Veränderung zum Vortag</th>\n",
       "      <th>Positiv PCR - getestete Personen in Quarantäne</th>\n",
       "      <th>Kontakt-personen in Quarantäne</th>\n",
       "      <th>Todesfälle (davon-neue)</th>\n",
       "      <th>Fälle pro Einwohner</th>\n",
       "    </tr>\n",
       "  </thead>\n",
       "  <tbody>\n",
       "    <tr>\n",
       "      <th>0</th>\n",
       "      <td>Bad Muskau</td>\n",
       "      <td>3681.0</td>\n",
       "      <td>295.0</td>\n",
       "      <td>0.0</td>\n",
       "      <td>1.0</td>\n",
       "      <td>0.0</td>\n",
       "      <td>22.0</td>\n",
       "      <td>8.014127</td>\n",
       "    </tr>\n",
       "    <tr>\n",
       "      <th>1</th>\n",
       "      <td>Beiersdorf</td>\n",
       "      <td>1129.0</td>\n",
       "      <td>110.0</td>\n",
       "      <td>0.0</td>\n",
       "      <td>1.0</td>\n",
       "      <td>0.0</td>\n",
       "      <td>5.0</td>\n",
       "      <td>9.743136</td>\n",
       "    </tr>\n",
       "    <tr>\n",
       "      <th>2</th>\n",
       "      <td>Bernstadt a. d. Eigen</td>\n",
       "      <td>3298.0</td>\n",
       "      <td>351.0</td>\n",
       "      <td>0.0</td>\n",
       "      <td>0.0</td>\n",
       "      <td>0.0</td>\n",
       "      <td>11.0</td>\n",
       "      <td>10.642814</td>\n",
       "    </tr>\n",
       "    <tr>\n",
       "      <th>3</th>\n",
       "      <td>Bertsdorf-Hörnitz</td>\n",
       "      <td>2046.0</td>\n",
       "      <td>184.0</td>\n",
       "      <td>0.0</td>\n",
       "      <td>3.0</td>\n",
       "      <td>2.0</td>\n",
       "      <td>9.0</td>\n",
       "      <td>8.993157</td>\n",
       "    </tr>\n",
       "    <tr>\n",
       "      <th>4</th>\n",
       "      <td>Boxberg/O.L.</td>\n",
       "      <td>4337.0</td>\n",
       "      <td>363.0</td>\n",
       "      <td>0.0</td>\n",
       "      <td>0.0</td>\n",
       "      <td>0.0</td>\n",
       "      <td>29.0</td>\n",
       "      <td>8.369841</td>\n",
       "    </tr>\n",
       "  </tbody>\n",
       "</table>\n",
       "</div>"
      ],
      "text/plain": [
       "        Stadt / Gemeinde  Einwohner-zahl (12/2019)  Coronafälle (gesamt)  \\\n",
       "0             Bad Muskau                    3681.0                 295.0   \n",
       "1             Beiersdorf                    1129.0                 110.0   \n",
       "2  Bernstadt a. d. Eigen                    3298.0                 351.0   \n",
       "3      Bertsdorf-Hörnitz                    2046.0                 184.0   \n",
       "4           Boxberg/O.L.                    4337.0                 363.0   \n",
       "\n",
       "   Veränderung zum Vortag  Positiv PCR - getestete Personen in Quarantäne  \\\n",
       "0                     0.0                                             1.0   \n",
       "1                     0.0                                             1.0   \n",
       "2                     0.0                                             0.0   \n",
       "3                     0.0                                             3.0   \n",
       "4                     0.0                                             0.0   \n",
       "\n",
       "   Kontakt-personen in Quarantäne  Todesfälle (davon-neue)  \\\n",
       "0                             0.0                     22.0   \n",
       "1                             0.0                      5.0   \n",
       "2                             0.0                     11.0   \n",
       "3                             2.0                      9.0   \n",
       "4                             0.0                     29.0   \n",
       "\n",
       "   Fälle pro Einwohner  \n",
       "0             8.014127  \n",
       "1             9.743136  \n",
       "2            10.642814  \n",
       "3             8.993157  \n",
       "4             8.369841  "
      ]
     },
     "execution_count": 44,
     "metadata": {},
     "output_type": "execute_result"
    }
   ],
   "source": [
    "# Ihr Code hier:\n",
    "\n",
    "df_corona.head()"
   ]
  },
  {
   "cell_type": "markdown",
   "id": "4bd6b96b",
   "metadata": {},
   "source": [
    "2. Erstellen Sie ein Pie Chart der 5 Städte/Gemeinden mit den meisten `Fällen pro Einwohner`. Sortieren Sie dazu die Tabelle nach diesem Wert und entfernen Sie alle Einträge, die kleiner sind als der fünfte Eintrag."
   ]
  },
  {
   "cell_type": "code",
   "execution_count": 45,
   "id": "81a83567",
   "metadata": {},
   "outputs": [
    {
     "data": {
      "text/html": [
       "<div>\n",
       "<style scoped>\n",
       "    .dataframe tbody tr th:only-of-type {\n",
       "        vertical-align: middle;\n",
       "    }\n",
       "\n",
       "    .dataframe tbody tr th {\n",
       "        vertical-align: top;\n",
       "    }\n",
       "\n",
       "    .dataframe thead th {\n",
       "        text-align: right;\n",
       "    }\n",
       "</style>\n",
       "<table border=\"1\" class=\"dataframe\">\n",
       "  <thead>\n",
       "    <tr style=\"text-align: right;\">\n",
       "      <th></th>\n",
       "      <th>Stadt / Gemeinde</th>\n",
       "      <th>Einwohner-zahl (12/2019)</th>\n",
       "      <th>Coronafälle (gesamt)</th>\n",
       "      <th>Veränderung zum Vortag</th>\n",
       "      <th>Positiv PCR - getestete Personen in Quarantäne</th>\n",
       "      <th>Kontakt-personen in Quarantäne</th>\n",
       "      <th>Todesfälle (davon-neue)</th>\n",
       "      <th>Fälle pro Einwohner</th>\n",
       "    </tr>\n",
       "  </thead>\n",
       "  <tbody>\n",
       "    <tr>\n",
       "      <th>43</th>\n",
       "      <td>Schönau-Berzdorf a. d. Eigen</td>\n",
       "      <td>1469.0</td>\n",
       "      <td>170.0</td>\n",
       "      <td>0.0</td>\n",
       "      <td>0.0</td>\n",
       "      <td>0.0</td>\n",
       "      <td>5.0</td>\n",
       "      <td>11.572498</td>\n",
       "    </tr>\n",
       "    <tr>\n",
       "      <th>41</th>\n",
       "      <td>Rothenburg/O.L.</td>\n",
       "      <td>4405.0</td>\n",
       "      <td>487.0</td>\n",
       "      <td>0.0</td>\n",
       "      <td>4.0</td>\n",
       "      <td>4.0</td>\n",
       "      <td>24.0</td>\n",
       "      <td>11.055619</td>\n",
       "    </tr>\n",
       "    <tr>\n",
       "      <th>14</th>\n",
       "      <td>Herrnhut</td>\n",
       "      <td>5787.0</td>\n",
       "      <td>632.0</td>\n",
       "      <td>0.0</td>\n",
       "      <td>0.0</td>\n",
       "      <td>0.0</td>\n",
       "      <td>18.0</td>\n",
       "      <td>10.921030</td>\n",
       "    </tr>\n",
       "    <tr>\n",
       "      <th>18</th>\n",
       "      <td>Kodersdorf</td>\n",
       "      <td>2387.0</td>\n",
       "      <td>258.0</td>\n",
       "      <td>0.0</td>\n",
       "      <td>0.0</td>\n",
       "      <td>0.0</td>\n",
       "      <td>9.0</td>\n",
       "      <td>10.808546</td>\n",
       "    </tr>\n",
       "    <tr>\n",
       "      <th>7</th>\n",
       "      <td>Gablenz</td>\n",
       "      <td>1607.0</td>\n",
       "      <td>173.0</td>\n",
       "      <td>0.0</td>\n",
       "      <td>1.0</td>\n",
       "      <td>0.0</td>\n",
       "      <td>6.0</td>\n",
       "      <td>10.765401</td>\n",
       "    </tr>\n",
       "  </tbody>\n",
       "</table>\n",
       "</div>"
      ],
      "text/plain": [
       "                Stadt / Gemeinde  Einwohner-zahl (12/2019)  \\\n",
       "43  Schönau-Berzdorf a. d. Eigen                    1469.0   \n",
       "41               Rothenburg/O.L.                    4405.0   \n",
       "14                      Herrnhut                    5787.0   \n",
       "18                    Kodersdorf                    2387.0   \n",
       "7                        Gablenz                    1607.0   \n",
       "\n",
       "    Coronafälle (gesamt)  Veränderung zum Vortag  \\\n",
       "43                 170.0                     0.0   \n",
       "41                 487.0                     0.0   \n",
       "14                 632.0                     0.0   \n",
       "18                 258.0                     0.0   \n",
       "7                  173.0                     0.0   \n",
       "\n",
       "    Positiv PCR - getestete Personen in Quarantäne  \\\n",
       "43                                             0.0   \n",
       "41                                             4.0   \n",
       "14                                             0.0   \n",
       "18                                             0.0   \n",
       "7                                              1.0   \n",
       "\n",
       "    Kontakt-personen in Quarantäne  Todesfälle (davon-neue)  \\\n",
       "43                             0.0                      5.0   \n",
       "41                             4.0                     24.0   \n",
       "14                             0.0                     18.0   \n",
       "18                             0.0                      9.0   \n",
       "7                              0.0                      6.0   \n",
       "\n",
       "    Fälle pro Einwohner  \n",
       "43            11.572498  \n",
       "41            11.055619  \n",
       "14            10.921030  \n",
       "18            10.808546  \n",
       "7             10.765401  "
      ]
     },
     "execution_count": 45,
     "metadata": {},
     "output_type": "execute_result"
    }
   ],
   "source": [
    "# Nutzen Sie diesen Code Block um das DataFrame zu sortieren und sich die Ausgabe anzeigen zu lassen\n",
    "\n",
    "# Ihr Code hier:\n",
    "\n",
    "df_corona_sorted.head()"
   ]
  },
  {
   "cell_type": "code",
   "execution_count": 46,
   "id": "2850ddb0",
   "metadata": {},
   "outputs": [
    {
     "data": {
      "image/png": "[encoded data removed]",
      "text/plain": [
       "<Figure size 432x288 with 1 Axes>"
      ]
     },
     "metadata": {},
     "output_type": "display_data"
    }
   ],
   "source": [
    "# Ihr Code hier:\n",
    "\n",
    "plt.show()"
   ]
  },
  {
   "cell_type": "markdown",
   "id": "042bb85c",
   "metadata": {},
   "source": [
    "Eine elegantere Methode ist es die Methode `nlargest` zu verwenden. (https://pandas.pydata.org/pandas-docs/version/0.17.0/generated/pandas.DataFrame.nlargest.html)\n",
    "\n",
    "3. Visualisieren Sie damit die Städte / Gemeinden mit den 5 meisten gesamten Coronafällen. Hinweis: denken Sie daran die Summe zu entfernen. Auch hierfür können Sie die `drop()` Funktion verwenden."
   ]
  },
  {
   "cell_type": "code",
   "execution_count": 47,
   "id": "81a99266",
   "metadata": {},
   "outputs": [
    {
     "data": {
      "image/png": "[encoded data removed]",
      "text/plain": [
       "<Figure size 432x288 with 1 Axes>"
      ]
     },
     "metadata": {},
     "output_type": "display_data"
    }
   ],
   "source": [
    "# Ihr Code hier:\n",
    "\n",
    "plt.show()"
   ]
  },
  {
   "cell_type": "code",
   "execution_count": null,
   "id": "59e25e56",
   "metadata": {},
   "outputs": [],
   "source": []
  }
 ],
 "metadata": {
  "kernelspec": {
   "display_name": "Python 3",
   "language": "python",
   "name": "python3"
  },
  "language_info": {
   "codemirror_mode": {
    "name": "ipython",
    "version": 3
   },
   "file_extension": ".py",
   "mimetype": "text/x-python",
   "name": "python",
   "nbconvert_exporter": "python",
   "pygments_lexer": "ipython3",
   "version": "3.8.8"
  }
 },
 "nbformat": 4,
 "nbformat_minor": 5
}
