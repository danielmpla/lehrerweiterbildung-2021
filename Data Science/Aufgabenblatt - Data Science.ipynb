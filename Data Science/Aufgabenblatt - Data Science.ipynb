{
 "cells": [
  {
   "cell_type": "markdown",
   "id": "f46d9a20",
   "metadata": {},
   "source": [
    "# Aufgabenblatt - Data Science\n",
    "\n",
    "## Aufgabe 1: Arrayoperationen mit Numpy\n",
    "\n",
    "Erstellen Sie ein Numpy Array welches alle geraden Zahlen von 0-100 enthält."
   ]
  },
  {
   "cell_type": "code",
   "execution_count": null,
   "id": "aadfecbd",
   "metadata": {},
   "outputs": [],
   "source": [
    "import numpy as np\n",
    "\n",
    "# Ihr Code hier:\n",
    "\n",
    "print(even)"
   ]
  },
  {
   "cell_type": "markdown",
   "id": "a1714ee9",
   "metadata": {},
   "source": [
    "Erstellen Sie ein Numpy Array welches alle ungeraden Zahlen von 0-100 enthält."
   ]
  },
  {
   "cell_type": "code",
   "execution_count": null,
   "id": "abafd967",
   "metadata": {},
   "outputs": [],
   "source": [
    "#Ihr Code hier:\n",
    "\n",
    "print(uneven)"
   ]
  },
  {
   "cell_type": "markdown",
   "id": "f092b2b0",
   "metadata": {},
   "source": [
    "Filtern Sie das Array mit den ungeraden Zahlen, sodass nur noch Primzahlen enthalten bleiben.\n",
    "\n",
    "Tipp: Nutzen Sie eine separate Methode zum Erkennen von Primzahlen."
   ]
  },
  {
   "cell_type": "code",
   "execution_count": null,
   "id": "1ee5f30b",
   "metadata": {},
   "outputs": [],
   "source": [
    "def is_prime(n):\n",
    "    # Ihr Code hier:\n",
    "\n",
    "# Ihr Code zum Filtern des Arrays hier:\n",
    "\n",
    "print(prime)"
   ]
  },
  {
   "cell_type": "markdown",
   "id": "48a74edf",
   "metadata": {},
   "source": [
    "## Aufgabe 2: Daten filtern mit Pandas\n",
    "\n",
    "Erstellen Sie ein Bar Chart welches die Häufigkeit der Vergabe des männlichen Namens Paul im Jahr 1983 an der Westküste der USA darstellt. Eine Liste mit den Kürzeln der Staaten ist bereits vorgegeben.\n",
    "\n",
    "Lesen Sie dazu die Datei `.data/names.csv` mit Pandas ein und nehmen eine entsprechende Filterung der Daten vor. Den Graphen können sie mit Matplotlib erstellen. Einfache Bar Charts sind mit dem Befehl `plt.bar()` analog zu `plt.plot()` möglich."
   ]
  },
  {
   "cell_type": "code",
   "execution_count": null,
   "id": "8336956f",
   "metadata": {},
   "outputs": [],
   "source": [
    "%matplotlib inline\n",
    "import pandas as pd\n",
    "import matplotlib.pyplot as plt\n",
    "\n",
    "states = [\"ME\", \"NH\", \"MA\", \"RI\", \"CT\", \"NJ\", \"DE\", \"MD\", \"DC\", \"VA\", \"NC\", \"SC\", \"GA\", \"FL\"]\n",
    "\n",
    "# Ihr Code hier:\n",
    "\n",
    "plt.show()"
   ]
  },
  {
   "cell_type": "markdown",
   "id": "8f1757ee",
   "metadata": {},
   "source": [
    "## Aufgabe 3: Webdaten extrahieren und verarbeiten mit Pandas\n",
    "\n",
    "Im Folgenden wird die aktuelle Übersicht der Coronafälle in den Städten und Gemeinden im Landkreis Görlitz aus dem Web extrahiert."
   ]
  },
  {
   "cell_type": "code",
   "execution_count": null,
   "id": "20f8bfb9",
   "metadata": {},
   "outputs": [],
   "source": [
    "import pandas as pd\n",
    "import requests\n",
    "import lxml\n",
    "import html5lib\n",
    "\n",
    "res = requests.get('https://www.kreis-goerlitz.de/Aktuelles/Coronavirus.htm/Seiten/Corona-Tabelle-Gemeinden.html?')\n",
    "\n",
    "# Die Methode 'read_html()' gibt eine Liste von DataFrames zurück\n",
    "df_corona = pd.read_html(res.text)[0]\n",
    "df_corona.head()"
   ]
  },
  {
   "cell_type": "markdown",
   "id": "bd1fc032",
   "metadata": {},
   "source": [
    "1. Erstellen Sie eine neue Spalte `Fälle pro Einwohner`, die die Anzahl der gesamten Coronafälle prozentual (zwischen 0 und 100) im Verhältnis zur Einwohnerzahl angibt."
   ]
  },
  {
   "cell_type": "code",
   "execution_count": null,
   "id": "b1e922c3",
   "metadata": {},
   "outputs": [],
   "source": [
    "# Ihr Code hier:\n",
    "\n",
    "df_corona.head()"
   ]
  },
  {
   "cell_type": "markdown",
   "id": "e89d9029",
   "metadata": {},
   "source": [
    "2. Erstellen Sie ein Pie Chart der 5 Städte/Gemeinden mit den meisten `Fällen pro Einwohner`. Sortieren Sie dazu die Tabelle nach diesem Wert und entfernen Sie alle Einträge, die kleiner sind als der fünfte Eintrag."
   ]
  },
  {
   "cell_type": "code",
   "execution_count": null,
   "id": "81a83567",
   "metadata": {},
   "outputs": [],
   "source": [
    "# Nutzen Sie diesen Code Block um das DataFrame zu sortieren und sich die Ausgabe anzeigen zu lassen\n",
    "\n",
    "# Ihr Code hier:\n",
    "\n",
    "df_corona_sorted.head()"
   ]
  },
  {
   "cell_type": "code",
   "execution_count": null,
   "id": "2850ddb0",
   "metadata": {},
   "outputs": [],
   "source": [
    "# Ihr Code hier:\n",
    "\n",
    "plt.show()"
   ]
  },
  {
   "cell_type": "markdown",
   "id": "07f7cf6a",
   "metadata": {},
   "source": [
    "Eine elegantere Methode ist es die Methode `nlargest` zu verwenden. (https://pandas.pydata.org/pandas-docs/version/0.17.0/generated/pandas.DataFrame.nlargest.html)\n",
    "\n",
    "3. Visualisieren Sie damit die Städte / Gemeinden mit den 5 meisten gesamten Coronafällen. Hinweis: denken Sie daran die Summe zu entfernen. Auch hierfür können Sie die `drop()` Funktion verwenden."
   ]
  },
  {
   "cell_type": "code",
   "execution_count": null,
   "id": "81a99266",
   "metadata": {},
   "outputs": [],
   "source": [
    "# Ihr Code hier:\n",
    "\n",
    "plt.show()"
   ]
  },
  {
   "cell_type": "code",
   "execution_count": null,
   "id": "59e25e56",
   "metadata": {},
   "outputs": [],
   "source": []
  }
 ],
 "metadata": {
  "kernelspec": {
   "display_name": "Python 3",
   "language": "python",
   "name": "python3"
  },
  "language_info": {
   "codemirror_mode": {
    "name": "ipython",
    "version": 3
   },
   "file_extension": ".py",
   "mimetype": "text/x-python",
   "name": "python",
   "nbconvert_exporter": "python",
   "pygments_lexer": "ipython3",
   "version": "3.8.8"
  }
 },
 "nbformat": 4,
 "nbformat_minor": 5
}
