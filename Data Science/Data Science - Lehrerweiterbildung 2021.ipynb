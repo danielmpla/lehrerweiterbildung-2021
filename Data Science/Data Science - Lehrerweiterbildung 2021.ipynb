{
 "cells": [
  {
   "cell_type": "markdown",
   "metadata": {},
   "source": [
    "# Datenverarbeitung mit Python\n",
    "\n",
    "## Warum Python?\n",
    "- Rapid Prototyping\n",
    "- Flexibilität\n",
    "- Weit verbreitet\n",
    " - zum fünften Jahr in Folge beliebteste Programmiersprache laut IEEE (https://spectrum.ieee.org/top-programming-languages/)\n",
    " - unter anderem genutzt durch YouTube, Google, Instagram, etc. (https://codeinstitute.net/blog/7-popular-software-programs-written-in-python/)\n",
    "- mächtige Bibliotheken\n",
    "\n",
    "## Der Data Science Stack von Python (Auszug)\n",
    "\n",
    "![alt text](Datenverarbeitung_Python_High_Res_Fixed.png \"Übersicht über Bibliotheken zur Datenverarbeitung mit Python\")\n"
   ]
  },
  {
   "cell_type": "markdown",
   "metadata": {},
   "source": [
    "## Numpy\n",
    "\n",
    "https://numpy.org/\n",
    "\n",
    "- erleichtert mathematische Berechnungen mit Daten\n",
    "- relevante Datenstruktur: `Array`\n",
    "- viele Bibliotheken, darunter matplotlib, hängen von Numpy ab\n",
    "\n",
    "Aufgabe: Plotte $y = x^2$ mit Python.\n",
    "\n",
    "Beispiel der Berechnung ohne Numpy:"
   ]
  },
  {
   "cell_type": "code",
   "execution_count": null,
   "metadata": {},
   "outputs": [],
   "source": [
    "# Matplotlib: Bibliothek zum Erstellen von Graphen mit Python die später genauer vorgestellt wird\n",
    "# mit der nächsten Zeile können wir das Resultat direkt im Notebook anzeigen lassen\n",
    "\n",
    "%matplotlib inline\n",
    "import matplotlib.pyplot as plt\n",
    "\n",
    "# Array mit den Werten 0-9\n",
    "xs = []\n",
    "for x in range(0, 100):\n",
    "    xs.append(x / 10)\n",
    "    \n",
    "# Oder: xs = [x / 10 for x in range(100)]\n",
    "    \n",
    "# Array mit den Werten 0²-9²\n",
    "ys = []\n",
    "for x in xs:\n",
    "    ys.append(x ** 2)\n",
    "    \n",
    "# Oder: ys = [x ** 2 for x in xs]\n",
    "\n",
    "# Simpler Befehl zum plotten von zwei gleich großen Listen\n",
    "plt.plot(xs, ys)\n",
    "\n",
    "# Ausgabe des Plots\n",
    "plt.show()"
   ]
  },
  {
   "cell_type": "markdown",
   "metadata": {},
   "source": [
    "Das gleiche mit Numpy:"
   ]
  },
  {
   "cell_type": "code",
   "execution_count": null,
   "metadata": {},
   "outputs": [],
   "source": [
    "%matplotlib inline\n",
    "import matplotlib.pyplot as plt\n",
    "\n",
    "# Üblicherweise wird Numpy mit np abgekürzt\n",
    "import numpy as np\n",
    "\n",
    "# Array von 0-9\n",
    "xs = np.arange(100) / 10\n",
    "\n",
    "# Array von 0²-9²\n",
    "ys = xs ** 2\n",
    "\n",
    "plt.plot(xs, ys)\n",
    "plt.show()"
   ]
  },
  {
   "cell_type": "code",
   "execution_count": null,
   "metadata": {},
   "outputs": [],
   "source": [
    "# Numpy verwendet eine eigene Klasse für Arrays\n",
    "type(ys)"
   ]
  },
  {
   "cell_type": "markdown",
   "metadata": {},
   "source": [
    "## Numpy Arrays erstellen"
   ]
  },
  {
   "cell_type": "code",
   "execution_count": null,
   "metadata": {},
   "outputs": [],
   "source": [
    "import numpy as np"
   ]
  },
  {
   "cell_type": "markdown",
   "metadata": {},
   "source": [
    "Der `array()` Befehl wandelt Python-Listen in Numpy Arrays um."
   ]
  },
  {
   "cell_type": "code",
   "execution_count": null,
   "metadata": {},
   "outputs": [],
   "source": [
    "np.array([1, 2, 4, 8, 16])"
   ]
  },
  {
   "cell_type": "markdown",
   "metadata": {},
   "source": [
    "Die Funktion `arange()` erstellt Arrays zu einem beliebigen Zahlenbereich."
   ]
  },
  {
   "cell_type": "code",
   "execution_count": null,
   "metadata": {},
   "outputs": [],
   "source": [
    "# Zwei Möglichkeiten die arange() Funktion zu nutzen\n",
    "print(np.arange(12,22))\n",
    "print(np.arange(10))"
   ]
  },
  {
   "cell_type": "markdown",
   "metadata": {},
   "source": [
    "Auch für Arrays mit einer vordefinierten Länge, die ausschließlich aus Nullen oder Einsen besteht gibt es Funktionen:"
   ]
  },
  {
   "cell_type": "code",
   "execution_count": null,
   "metadata": {},
   "outputs": [],
   "source": [
    "print(np.zeros(5))\n",
    "print(np.ones(12))"
   ]
  },
  {
   "cell_type": "markdown",
   "metadata": {},
   "source": [
    "Rechenoperationen mit Numpy Arrays beziehen sich auf jeden Wert in der Liste. Eine Schleife müssen wir selber nicht implementieren:"
   ]
  },
  {
   "cell_type": "code",
   "execution_count": null,
   "metadata": {},
   "outputs": [],
   "source": [
    "print(np.arange(10) + 3)\n",
    "print(np.arange(10) * 3)\n",
    "print(np.array([7,16,21,59]) ** 2)"
   ]
  },
  {
   "cell_type": "markdown",
   "metadata": {},
   "source": [
    "Natürlich stellt Numpy auch einfache Aggregationsfunktionen, sowie eine Sortierfunktion für Listen zur Verfügung:"
   ]
  },
  {
   "cell_type": "code",
   "execution_count": null,
   "metadata": {},
   "outputs": [],
   "source": [
    "l = np.array([33,7,18,1,59,12])\n",
    "\n",
    "print(\"Durchschnitt:\", l.mean())\n",
    "print(\"Maximum:\", l.max())\n",
    "print(\"Minimum:\", l.min())\n",
    "print(\"Standartabweichung:\", l.std())"
   ]
  },
  {
   "cell_type": "code",
   "execution_count": null,
   "metadata": {},
   "outputs": [],
   "source": [
    "# Die sort() Operation wird direkt auf der Liste ausgeführt und gibt nichts zurück.\n",
    "l.sort()"
   ]
  },
  {
   "cell_type": "code",
   "execution_count": null,
   "metadata": {},
   "outputs": [],
   "source": [
    "print(l)"
   ]
  },
  {
   "cell_type": "markdown",
   "metadata": {},
   "source": [
    "#### Wie funktioniert die `Array` Klasse in Numpy?\n",
    "Dazu bauen wir eine eigene Klasse `MyArray`, die sich bei der Multiplikation genauso verhält wie Numpy Arrays, also jedes Element in der Liste einzeln multipliziert und nicht die gesamte Liste."
   ]
  },
  {
   "cell_type": "code",
   "execution_count": null,
   "metadata": {},
   "outputs": [],
   "source": [
    "# Zunächst das normale Verhalten in Python\n",
    "\n",
    "a = [1,2,3]\n",
    "b = a * 2\n",
    "\n",
    "print(a)\n",
    "print(b)"
   ]
  },
  {
   "cell_type": "code",
   "execution_count": null,
   "metadata": {},
   "outputs": [],
   "source": [
    "# Jetzt mit unserer eigenen Klasse nach dem Vorbild von Numpy\n",
    "\n",
    "class MyArray():\n",
    "    \n",
    "    # der Constructor in Python, hier übergeben wir lediglich die Liste\n",
    "    def __init__(self, liste):\n",
    "        self.liste = liste\n",
    "        \n",
    "    # die Multiplikationsfunktion (*) wird überschrieben, so dass sie für jedes Element aus der Liste aufgerufen wird    \n",
    "    def __mul__(self, other):\n",
    "        nliste = []\n",
    "        for element in self.liste:\n",
    "            nliste.append(element * other)\n",
    "        # Oder: nliste = [element * other for element in self.liste]\n",
    "        return MyArray(nliste)\n",
    "        \n",
    "a = MyArray([1, 2, 3])\n",
    "b = a * 2\n",
    "\n",
    "print(a.liste)\n",
    "print(b.liste)"
   ]
  },
  {
   "cell_type": "markdown",
   "metadata": {},
   "source": [
    "## Erweiterte Funktionen: Arrays filtern mit Numpy\n",
    "\n",
    "- Arrays können mit einem weitern Array bestehend aus Wahrheitswerten einfach gefiltert werden\n",
    "- Numpy kann so eine Liste mit einem simplen Vergleichsoperator erstellen"
   ]
  },
  {
   "cell_type": "code",
   "execution_count": null,
   "metadata": {},
   "outputs": [],
   "source": [
    "import numpy as np\n",
    "\n",
    "a = np.arange(4) + 1\n",
    "print(a)"
   ]
  },
  {
   "cell_type": "code",
   "execution_count": null,
   "metadata": {},
   "outputs": [],
   "source": [
    "b = np.array([False, True, True, False])\n",
    "print(b)"
   ]
  },
  {
   "cell_type": "code",
   "execution_count": null,
   "metadata": {},
   "outputs": [],
   "source": [
    "a[b]"
   ]
  },
  {
   "cell_type": "code",
   "execution_count": null,
   "metadata": {},
   "outputs": [],
   "source": [
    "a >= 3"
   ]
  },
  {
   "cell_type": "code",
   "execution_count": null,
   "metadata": {},
   "outputs": [],
   "source": [
    "a[a >= 3]"
   ]
  },
  {
   "cell_type": "markdown",
   "metadata": {},
   "source": [
    "## Mehrdimensionale Arrays\n",
    "\n",
    "- Arrays unterstützen in Numpy von Haus aus mehrere Dimensionen\n",
    "- diese werden durch die Verschachtelung von Arrays gekennzeichnet\n",
    "- Daten lassen sich über diverse Matrizenoperationen neu anordnen"
   ]
  },
  {
   "cell_type": "code",
   "execution_count": null,
   "metadata": {},
   "outputs": [],
   "source": [
    "import numpy as np\n",
    "\n",
    "a = np.arange(8) + 1\n",
    "a"
   ]
  },
  {
   "cell_type": "code",
   "execution_count": null,
   "metadata": {},
   "outputs": [],
   "source": [
    "reshaped = a.reshape((2, 4))\n",
    "print(reshaped[0])\n",
    "print(reshaped[1])"
   ]
  },
  {
   "cell_type": "code",
   "execution_count": null,
   "metadata": {},
   "outputs": [],
   "source": [
    "a.reshape((4, -1))"
   ]
  },
  {
   "cell_type": "code",
   "execution_count": null,
   "metadata": {},
   "outputs": [],
   "source": [
    "a.reshape((4, -1)).transpose()"
   ]
  },
  {
   "cell_type": "code",
   "execution_count": null,
   "metadata": {},
   "outputs": [],
   "source": [
    "b = np.array([[1,2,3], [4,5,6]])\n",
    "b"
   ]
  },
  {
   "cell_type": "code",
   "execution_count": null,
   "metadata": {},
   "outputs": [],
   "source": [
    "b.reshape(-1)"
   ]
  },
  {
   "cell_type": "code",
   "execution_count": null,
   "metadata": {},
   "outputs": [],
   "source": [
    "b.shape # das Original Array wurde nicht verändert, die Methode 'shape()' liefert noch die alte Struktur"
   ]
  },
  {
   "cell_type": "markdown",
   "metadata": {},
   "source": [
    "## Pandas\n",
    "\n",
    "https://pandas.pydata.org/docs/index.html\n",
    "\n",
    "- Bibliothek für Datenanalyse und Datenmanipulation\n",
    "- basiert auf Numpy\n",
    "- Acronym: <b>P</b>ython <b>an</b>d <b>d</b>ata <b>a</b>nalysi<b>s</b>\n",
    "- relevante Datenstruktur: `DataFrame`\n",
    "\n",
    "Pandas vereinfacht komplexe Operationen wie:\n",
    "- das Einlesen tabellarischer Daten oder anderer strukturierter Daten\n",
    "- das Filtern und Sortieren von Daten\n",
    "- die Manipulation von Daten"
   ]
  },
  {
   "cell_type": "markdown",
   "metadata": {},
   "source": [
    "## Pandas: Tabellarische Daten einlesen\n",
    "\n",
    "Auch hier wollen wir uns zunächst anschauen wie man eine bestimmte Aufgabe ohne Pandas lösen würde.\n",
    "\n",
    "Die Datei `astronauts.csv` im Ordner `data` soll eingelesen werden und wir möchten uns die Daten anschauen."
   ]
  },
  {
   "cell_type": "code",
   "execution_count": null,
   "metadata": {},
   "outputs": [],
   "source": [
    "# Naive Implementierung ohne Pandas mit dem 'with open(...) Operator'\n",
    "first_line = True\n",
    "head = []\n",
    "data = []\n",
    "with open('./data/astronauts.csv', 'r') as astronauts:\n",
    "    for line in astronauts:\n",
    "        split = line.strip().split(',')\n",
    "        if first_line:\n",
    "            head = split\n",
    "            first_line = False\n",
    "        else:\n",
    "            data.append(split)\n",
    "            \n",
    "print(head)\n",
    "print(data[0:4])"
   ]
  },
  {
   "cell_type": "markdown",
   "metadata": {},
   "source": [
    "Mit Pandas können wir den oberen Block auf eine Zeile reduzieren."
   ]
  },
  {
   "cell_type": "code",
   "execution_count": null,
   "metadata": {},
   "outputs": [],
   "source": [
    "# Pandas wird üblicherweise mit pd abgekürzt, DataFrame mit df\n",
    "import pandas as pd\n",
    "df_astronauts = pd.read_csv(\"./data/astronauts.csv\", delimiter=\",\") # \",\" ist der Standardwert"
   ]
  },
  {
   "cell_type": "code",
   "execution_count": null,
   "metadata": {
    "scrolled": true
   },
   "outputs": [],
   "source": [
    "# Und eine komfortablere Ausgabe erzeugen\n",
    "df_astronauts.head(15)"
   ]
  },
  {
   "cell_type": "markdown",
   "metadata": {},
   "source": [
    "Weitere einfache DataFrame Operationen werden im Folgenden gezeigt."
   ]
  },
  {
   "cell_type": "code",
   "execution_count": null,
   "metadata": {},
   "outputs": [],
   "source": [
    "len(df_astronauts) # Längenabfrage"
   ]
  },
  {
   "cell_type": "code",
   "execution_count": null,
   "metadata": {},
   "outputs": [],
   "source": [
    "df_astronauts[\"Name\"] # Nur die Spalte Name"
   ]
  },
  {
   "cell_type": "code",
   "execution_count": null,
   "metadata": {},
   "outputs": [],
   "source": [
    "df_astronauts.iloc[0] # Nur die erste Zeile"
   ]
  },
  {
   "cell_type": "code",
   "execution_count": null,
   "metadata": {},
   "outputs": [],
   "source": [
    "entry = df_astronauts.iloc[0]\n",
    "print(type(entry)) # Datentyp einer Zeile"
   ]
  },
  {
   "cell_type": "code",
   "execution_count": null,
   "metadata": {},
   "outputs": [],
   "source": [
    "print(entry[\"Birth Date\"]) # Spezifischer Eintrag aus der Zeile"
   ]
  },
  {
   "cell_type": "code",
   "execution_count": null,
   "metadata": {},
   "outputs": [],
   "source": [
    "df_astronauts.iloc[-4:] # Die letzten vier Zeilen"
   ]
  },
  {
   "cell_type": "markdown",
   "metadata": {},
   "source": [
    "## Pandas: Daten filtern\n",
    "\n",
    "Um Daten zu Filtern kann unter Pandas eine ähnliche Syntax wie in Numpy verwendet werden.\n",
    "\n",
    "DataFrames können so in immer kleinere Teile zerlegt werden:"
   ]
  },
  {
   "cell_type": "code",
   "execution_count": null,
   "metadata": {},
   "outputs": [],
   "source": [
    "# Natürlich können auch Schleifen verwendet werden...\n",
    "for i, d in df_astronauts.iterrows():\n",
    "    print(i)\n",
    "    print(d[\"Year\"])\n",
    "    # hier könnten wir den Index entfernen, wenn das Jahr nicht unserem Kriterium entspricht\n",
    "    break"
   ]
  },
  {
   "cell_type": "code",
   "execution_count": null,
   "metadata": {},
   "outputs": [],
   "source": [
    "# ...aber die Implementierung mit Pandas ist deutlich effizienter und einfacher.\n",
    "df_astronauts[\"Year\"] < 1990"
   ]
  },
  {
   "cell_type": "code",
   "execution_count": null,
   "metadata": {},
   "outputs": [],
   "source": [
    "df_astronauts[df_astronauts[\"Year\"] <= 1964]"
   ]
  },
  {
   "cell_type": "code",
   "execution_count": null,
   "metadata": {},
   "outputs": [],
   "source": [
    "df_female = df_astronauts[df_astronauts[\"Gender\"] == \"Female\"]\n",
    "df_female_2000_plus = df_female[df_female[\"Year\"] >= 2005]\n",
    "df_female_2000_plus.head()"
   ]
  },
  {
   "cell_type": "markdown",
   "metadata": {},
   "source": [
    "Die Methode `isin()` erleichtert den Vergleich mit mehreren Werten, etwa wenn uns nur Astronauten interessieren, die einen Hochschulabschluss in Geologie oder Physik haben:"
   ]
  },
  {
   "cell_type": "code",
   "execution_count": null,
   "metadata": {},
   "outputs": [],
   "source": [
    "df_physics_geology = df_astronauts[df_astronauts[\"Graduate Major\"].isin(['Geology', 'Physics'])]\n",
    "df_physics_geology.head()"
   ]
  },
  {
   "cell_type": "markdown",
   "metadata": {},
   "source": [
    "Sogar beliebige `String` Operationen können verwendet werden um Elemente zu filtern. Hier möchten wir im Feld `Undergraduate Major` nach Abschlüssen im Bereich `Engineering` suchen. Aber es gibt ein Problem:"
   ]
  },
  {
   "cell_type": "code",
   "execution_count": null,
   "metadata": {},
   "outputs": [],
   "source": [
    "df_engineering = df_astronauts[df_astronauts['Undergraduate Major'].str.contains('Engineering')]\n",
    "df_engineering.head()"
   ]
  },
  {
   "cell_type": "markdown",
   "metadata": {},
   "source": [
    "Das Dataframe enthält Zeilen mit `NaN` Werten, da einige der Astronauten keinen Abschluss haben. Wir müssen diese also zunächst entfernen oder ersetzen:"
   ]
  },
  {
   "cell_type": "code",
   "execution_count": null,
   "metadata": {},
   "outputs": [],
   "source": [
    "# Wir entscheiden uns hier die Werte zu entfernen. Um diese zu ersetzen, kann der Befehl 'fillna()' analog verwendet werden.\n",
    "df_no_nan = df_astronauts.dropna(subset=['Undergraduate Major'])\n",
    "df_engineering = df_no_nan[df_no_nan['Undergraduate Major'].str.contains('Engineering')]\n",
    "df_engineering.head()"
   ]
  },
  {
   "cell_type": "markdown",
   "metadata": {},
   "source": [
    "## Pandas: Daten sortieren\n",
    "\n",
    "Hier stellt Pandas ebenfalls eine einfache Funktion zur Verfügung:"
   ]
  },
  {
   "cell_type": "code",
   "execution_count": null,
   "metadata": {},
   "outputs": [],
   "source": [
    "df_namesort = df_astronauts.sort_values(\"Name\", ascending=False)\n",
    "df_namesort.head()"
   ]
  },
  {
   "cell_type": "code",
   "execution_count": null,
   "metadata": {},
   "outputs": [],
   "source": [
    "for name in df_namesort[\"Name\"]:\n",
    "    print(name)"
   ]
  },
  {
   "cell_type": "markdown",
   "metadata": {},
   "source": [
    "## Pandas: Zeilen entfernen und hinzufügen\n",
    "\n",
    "Einzelne Zeilen lassen sich einfach anhand ihres Index mit der Methode `drop()` entfernen, das funktioniert auch für mehrere Zeilen:"
   ]
  },
  {
   "cell_type": "code",
   "execution_count": null,
   "metadata": {},
   "outputs": [],
   "source": [
    "index = df_astronauts.index[df_astronauts['Graduate Major'] == 'Geology']\n",
    "\n",
    "df_astronauts_no_geology = df_astronauts.drop(index)\n",
    "df_astronauts_no_geology.head(5)"
   ]
  },
  {
   "cell_type": "markdown",
   "metadata": {},
   "source": [
    "Um Zellen hinzuzufügen, werden diese einfach dem DataFrame als Liste oder Dictionary angefügt. Fehlende Werte, werden mit `np.nan` automatisch aufgefüllt."
   ]
  },
  {
   "cell_type": "code",
   "execution_count": null,
   "metadata": {},
   "outputs": [],
   "source": [
    "df_i_am_astronaut = df_astronauts.append({'Name': \"Markus Ullrich\", 'Alma Mater': 'HSZG', 'Birth Date': '16/1/1988', 'Gender': 'Male', 'Graduate Major': 'Computer Science'}, ignore_index=True)\n",
    "df_i_am_astronaut.tail()"
   ]
  },
  {
   "cell_type": "markdown",
   "metadata": {},
   "source": [
    "## Pandas: Spalten Entfernen und Erstellen\n",
    "\n",
    "- Spalten können ebenfalls mit dem Befehl `drop()` gelöscht werden\n",
    "- Dazu muss die `axis` geändert werden (auf 1). Standardwert ist der Zeilenindex (0).\n",
    "- Auch mehrere Spalten können gelöscht werden\n",
    "- `insert()` fügt neue Spalten hinzu\n",
    "- Neue Spalten können ähnlich wie in Numpy aus bereits existierenden Spalten erstellt werden"
   ]
  },
  {
   "cell_type": "markdown",
   "metadata": {},
   "source": [
    "Die Spalten `Alma Mater`, `Undergraduate Major` und `Graduate Major` werden für die weitere Bearbeitung nicht weiter benötigt und sollen gelösct werden:"
   ]
  },
  {
   "cell_type": "code",
   "execution_count": null,
   "metadata": {},
   "outputs": [],
   "source": [
    "df_dropped = df_astronauts.drop(['Alma Mater', 'Undergraduate Major', 'Graduate Major'], axis=1)\n",
    "df_dropped.head()"
   ]
  },
  {
   "cell_type": "markdown",
   "metadata": {},
   "source": [
    "Nun soll die Spalte `Hours per Space Flight` hinzugefügt werden, nach der Spalte `Space Flight (hr)`, mit der durchschnittlichen Zeit, die Astronauten pro Flug im All verbracht haben:"
   ]
  },
  {
   "cell_type": "code",
   "execution_count": null,
   "metadata": {},
   "outputs": [],
   "source": [
    "# Für den Index müssen wir auf das 'columns' Objekt zugreifen\n",
    "column_index = df_dropped.columns.get_loc('Space Flight (hr)') + 1\n",
    "column_name = 'Hours per Space Flight'\n",
    "\n",
    "# Hinzufügen können wir die Spalte dann mit einem Befehl\n",
    "# Achtung! Der Befehl 'insert()' modifiziert das DataFrame direkt.\n",
    "# Um mehrere Spalten durch Mehrfachausführung der Zelle zu vermeiden...\n",
    "# ...wird hier die Spalte erst gelöscht, falls sie existiert\n",
    "df_dropped.drop(column_name, axis = 1, inplace = True, errors = 'ignore')\n",
    "df_dropped.insert(column_index, column_name, df_dropped['Space Flight (hr)'] / df_dropped['Space Flights'])\n",
    "df_dropped.head(10)"
   ]
  },
  {
   "cell_type": "markdown",
   "metadata": {},
   "source": [
    "## Pandas: Excel und Grafiken zeichnen\n",
    "\n",
    "- Pandas erleichtert auch den Umgang mit Excel Dateien\n",
    "- Durch die direkte Integration von Matplotlib, wird das Plotten von Informationen ebenfalls erleichtert"
   ]
  },
  {
   "cell_type": "code",
   "execution_count": null,
   "metadata": {},
   "outputs": [],
   "source": [
    "import pandas as pd\n",
    "# Auch Excel Dateien lassen sich mit einer Zeile einlesen\n",
    "df_excel = pd.read_excel(\"./data/umsatz_daten.xlsx\")\n",
    "df_excel.head()"
   ]
  },
  {
   "cell_type": "markdown",
   "metadata": {},
   "source": [
    "Nun können wir die einzelnen Spalten abrufen und plotten lassen:"
   ]
  },
  {
   "cell_type": "code",
   "execution_count": null,
   "metadata": {},
   "outputs": [],
   "source": [
    "year = df_excel[\"Jahr\"]\n",
    "sales = df_excel[\"Umsatz\"]"
   ]
  },
  {
   "cell_type": "code",
   "execution_count": null,
   "metadata": {},
   "outputs": [],
   "source": [
    "%matplotlib inline\n",
    "import matplotlib.pyplot as plt"
   ]
  },
  {
   "cell_type": "code",
   "execution_count": null,
   "metadata": {},
   "outputs": [],
   "source": [
    "plt.plot(year, sales)\n",
    "plt.show()"
   ]
  },
  {
   "cell_type": "markdown",
   "metadata": {},
   "source": [
    "Oder wir ersetzen auch diesen Vorgang mit einem einzelnen Befehl in Pandas:"
   ]
  },
  {
   "cell_type": "code",
   "execution_count": null,
   "metadata": {},
   "outputs": [],
   "source": [
    "df_excel.plot(\"Jahr\", \"Umsatz\")"
   ]
  },
  {
   "cell_type": "markdown",
   "metadata": {},
   "source": [
    "## Komplexbeispiel: Wetterdaten einlesen\n",
    "\n",
    "In diesem Beispiel soll die generelle Herangehensweise an komplexe Probleme bei der Verarbeitung von Daten gezeigt werden.\n",
    "Hier sollen Wetterdaten, die wir von Wetterstationen erhalten haben, in ein geeignetes Format zur Weiterverarbeitung gebracht werden. Zunächst schauen wir uns die Rohdaten mit Pandas an:"
   ]
  },
  {
   "cell_type": "code",
   "execution_count": null,
   "metadata": {},
   "outputs": [],
   "source": [
    "import pandas as pd\n",
    "\n",
    "df_wind = pd.read_csv('./data/wind.csv', delimiter=\";\", skipinitialspace=True)\n",
    "print(df_wind.head(10))"
   ]
  },
  {
   "cell_type": "markdown",
   "metadata": {},
   "source": [
    "Wir möchten Uhrzeit und Datum in einer Spalte haben. Dazu ersetzen wir die existierenden Spalten mit einer neuen und passen gleichzeitig das Datumsformat an. Außerdem entfernen wir weitere nicht benötigte Spalten:"
   ]
  },
  {
   "cell_type": "code",
   "execution_count": null,
   "metadata": {},
   "outputs": [],
   "source": [
    "df_wind[\"Date\"] = pd.to_datetime(df_wind[\"Logische Periode \"] + \" \" + df_wind[\"Endzeitstempel \"] + \"+01:00\").dt.tz_convert('Europe/Berlin')\n",
    "df_wind = df_wind.drop([\"Status \", \"Tarif \", \"Logische Periode \", \"Endzeitstempel \"], axis=1)\n",
    "df_wind.head(10)"
   ]
  },
  {
   "cell_type": "markdown",
   "metadata": {},
   "source": [
    "Die Spalte `Wert` ist wenig aussagekräftig, wir ändern den Namen in `Globalstrahlung`. Außerdem möchten wir das Datum als Index verwenden:"
   ]
  },
  {
   "cell_type": "code",
   "execution_count": null,
   "metadata": {},
   "outputs": [],
   "source": [
    "wert_name = 'Globalstrahlung'\n",
    "df_wind.rename(columns={'Wert ': wert_name}, inplace=True)\n",
    "df_wind = df_wind.set_index('Date')\n",
    "df_wind.head(10)"
   ]
  },
  {
   "cell_type": "markdown",
   "metadata": {},
   "source": [
    "Da es sich um ein deutsches Zahlenformat handelt, können die Werte in der Spalte `Globalstrahlung` nicht einfach in Zahlen umgewandelt werden. Wir machen das hier händisch per Übergabe einer Funktion. Damit können Daten beliebig modifiziert werden. Anschließend, können die Werte einfach in ein numerisched Format umgewandelt werden:"
   ]
  },
  {
   "cell_type": "code",
   "execution_count": null,
   "metadata": {},
   "outputs": [],
   "source": [
    "df_wind[wert_name] = df_wind[wert_name].map(lambda x: x.replace(\".\", \"\").replace(\",\", \".\"))\n",
    "df_wind[wert_name] = pd.to_numeric(df_wind[wert_name])\n",
    "print(df_wind[wert_name])"
   ]
  },
  {
   "cell_type": "markdown",
   "metadata": {},
   "source": [
    "Zum Schluss möchten wir die Werte in den Daten für jede Stunde aufsummieren, da wir die Werte nur stundenweise benötigen. Dazu verwenden wie die Funktion `resample()` sowie die Klasse `to_offset` um den Index um eine Stunde nach hinten zu korrigieren:"
   ]
  },
  {
   "cell_type": "code",
   "execution_count": null,
   "metadata": {},
   "outputs": [],
   "source": [
    "from pandas.tseries.frequencies import to_offset\n",
    "\n",
    "df_wind = df_wind.resample(\"1H\", closed=\"right\").sum()\n",
    "df_wind.index = df_wind.index + to_offset('1H')\n",
    "print(df_wind.head(10))"
   ]
  },
  {
   "cell_type": "markdown",
   "metadata": {},
   "source": [
    "## Mehr über Matplotlib\n",
    "\n",
    "https://matplotlib.org/stable/index.html\n",
    "\n",
    "- Bisher haben wir nur den Standarddiagrammtyp betrachtet\n",
    "- Matplotlib erlaubt aber auch hier vielfältige Konfigurationsmöglichkeiten\n",
    "- Auch weitere Diagrammtypen sind möglich und sollen im Folgenden kurz vorgestellt werden"
   ]
  },
  {
   "cell_type": "code",
   "execution_count": null,
   "metadata": {},
   "outputs": [],
   "source": [
    "%matplotlib inline\n",
    "import matplotlib.pyplot as plt\n",
    "\n",
    "# Zunächst noch einmal ein einfacher Plot\n",
    "plt.plot([1,2,3], [5,4,7])\n",
    "plt.show()"
   ]
  },
  {
   "cell_type": "code",
   "execution_count": null,
   "metadata": {},
   "outputs": [],
   "source": [
    "# Farbe, Art des Plots und Label, sowie die Anzeige der Legende können frei gewählt werden\n",
    "plt.plot([1,2,3], [5,4,7], color=\"#f77216\", linestyle=\"dashed\", marker=\"o\", label=\"Umsatz\")\n",
    "plt.legend()\n",
    "plt.show()"
   ]
  },
  {
   "cell_type": "markdown",
   "metadata": {},
   "source": [
    "### Weitere Diagrammtypen\n",
    "\n",
    "- Mit Beispielen aus der offiziellen Dokumentation\n",
    "- Anpassungen können gerne vorgenommen werden"
   ]
  },
  {
   "cell_type": "code",
   "execution_count": null,
   "metadata": {},
   "outputs": [],
   "source": [
    "# Kreisdiagramm\n",
    "labels = 'Kiefer', 'Tanne', 'Eiche', 'Buche'\n",
    "werte = [37, 28, 53, 12]\n",
    "explode = (0, 0.1, 0, 0)  # der zweite Bereich wird hervorgehoben\n",
    "\n",
    "fig1, ax1 = plt.subplots()\n",
    "ax1.pie(werte, explode=explode, labels=labels, autopct='%1.1f%%',\n",
    "        shadow=True, startangle=90)\n",
    "ax1.axis('equal')  # Stellt sicher, dass das Diagramm tatsächlich als Kreis gezeichnet wird\n",
    "\n",
    "plt.show()"
   ]
  },
  {
   "cell_type": "code",
   "execution_count": null,
   "metadata": {},
   "outputs": [],
   "source": [
    "# Ein Balkendiagramm mit gestapelten Balken und Markierungen für die Standardabweichung\n",
    "\n",
    "import numpy as np\n",
    "\n",
    "N = 5\n",
    "menMeans = (20, 35, 30, 35, -27)\n",
    "womenMeans = (25, 32, 34, 20, -25)\n",
    "menStd = (2, 3, 4, 1, 2)\n",
    "womenStd = (3, 5, 2, 3, 3)\n",
    "ind = np.arange(N)    # die x-Werte für die Gruppen\n",
    "width = 0.35       # die breite der Balken: auch eine 'Sequence' der Länge x ist möglich\n",
    "\n",
    "fig, ax = plt.subplots()\n",
    "\n",
    "p1 = ax.bar(ind, menMeans, width, yerr=menStd, label='Männer') # dem Attribut 'yerr' übergeben wir die Standardabweichungen\n",
    "p2 = ax.bar(ind, womenMeans, width,\n",
    "            bottom=menMeans, yerr=womenStd, label='Frauen')\n",
    "\n",
    "# eine einfache graue horizontale Linie\n",
    "ax.axhline(0, color='grey', linewidth=0.8)\n",
    "\n",
    "ax.set_ylabel('Punkte')\n",
    "ax.set_title('Punkte nach Gruppe und Geschlecht')\n",
    "ax.set_xticks(ind)\n",
    "ax.set_xticklabels(('G1', 'G2', 'G3', 'G4', 'G5'))\n",
    "ax.legend()\n",
    "\n",
    "# Label mit dem Typ 'center' anstatt dem default-Wert 'edge', bar_label werden nur in der neuesten Version unterstützt\n",
    "# ax.bar_label(p1, label_type='center')\n",
    "# ax.bar_label(p2, label_type='center')\n",
    "# ax.bar_label(p2)\n",
    "\n",
    "plt.show()"
   ]
  },
  {
   "cell_type": "code",
   "execution_count": null,
   "metadata": {},
   "outputs": [],
   "source": [
    "# Scatterplot mit 'zufälliger' Verteilung der Punkte\n",
    "\n",
    "np.random.seed(19680801)\n",
    "\n",
    "fig, ax = plt.subplots()\n",
    "for color in ['tab:blue', 'tab:orange', 'tab:green']:\n",
    "    n = 750\n",
    "    x, y = np.random.rand(2, n) # erzeugt zwei Zufallslisten der Länge 'n' mit Werten zwischen 0 und 1\n",
    "    scale = 200.0 * np.random.rand(n)\n",
    "    ax.scatter(x, y, c=color, s=scale, label=color,\n",
    "               alpha=0.3, edgecolors='none')\n",
    "\n",
    "ax.legend()\n",
    "ax.grid(True)\n",
    "\n",
    "plt.show()"
   ]
  },
  {
   "cell_type": "markdown",
   "metadata": {},
   "source": [
    "## Maschinelles Lernen\n",
    "\n",
    "- zahlreiche Bibliotheken unterstützen ML in Python\n",
    "- komplexe Aufgaben gelingen mit wenigen Codezeilen\n",
    "- wir betrachten Beispielhaft eine Anwendung mit Hilfe der Bibliothek Scikit Learn\n",
    "\n",
    "https://scikit-learn.org/stable/\n",
    "\n",
    "### Beispielaufgabe\n",
    "\n",
    "Die Datei `names.csv` enthält für jedes Jahr zwischen 1910 und 2014 die Häufigkeit verschiedener Mädchen- und Jungennamen, die bei der Geburt vergeben wurden, für alle Bundesstaaten der USA.\n",
    "\n",
    "Die Aufgabe ist in zwei Teile untergliedert:\n",
    "1. Visualisieren Sie wie oft der Name Anna als Mädchenname (F) in California (CA) jedes Jahr vergeben wurde.\n",
    "2. Zeichnen Sie eine lineare Regressionskurve ein, die visualisiert, wie sehr die Beliebtheit des Namens gestiegen (oder gefallen) ist."
   ]
  },
  {
   "cell_type": "code",
   "execution_count": null,
   "metadata": {},
   "outputs": [],
   "source": [
    "# Benötigte Importe\n",
    "%matplotlib inline\n",
    "import matplotlib.pyplot as plt\n",
    "import pandas as pd"
   ]
  },
  {
   "cell_type": "code",
   "execution_count": null,
   "metadata": {},
   "outputs": [],
   "source": [
    "name = \"Anna\"\n",
    "gender = \"F\"\n",
    "state = \"CA\"\n",
    "\n",
    "# Die Daten können wir wie gewohnt mit Pandas filtern...\n",
    "df = pd.read_csv(\"./data/names.csv\")\n",
    "df_f = df[df[\"Gender\"] == gender]\n",
    "df_anna = df_f[df_f[\"Name\"] == name]\n",
    "df_ca = df_anna[df_anna[\"State\"] == state]\n",
    "\n",
    "# ...und mit Matplotlib visualisieren\n",
    "plt.plot(df_ca[\"Year\"], df_ca[\"Count\"])\n",
    "plt.show()"
   ]
  },
  {
   "cell_type": "code",
   "execution_count": null,
   "metadata": {},
   "outputs": [],
   "source": [
    "# Da wir nicht die gesamte Bibliothek benötigen, importieren wir nur einen Teil davon\n",
    "from sklearn.linear_model import LinearRegression"
   ]
  },
  {
   "cell_type": "code",
   "execution_count": null,
   "metadata": {},
   "outputs": [],
   "source": [
    "model = LinearRegression()\n",
    "xsl = []\n",
    "for x in df_ca[\"Year\"]:\n",
    "    xsl.append([x])\n",
    "# Die Methode 'fit()' erwartet ein mehrhdimensionales Array/eine mehrdimensionale Liste für die x-Werte und die y-Werte...\n",
    "# ...beide mit den gleichen Dimensionen\n",
    "model.fit(xsl, df_ca[\"Count\"])"
   ]
  },
  {
   "cell_type": "code",
   "execution_count": null,
   "metadata": {},
   "outputs": [],
   "source": [
    "model.predict(xsl) # liefert für jedes Jahr die vorhergesagte Häufigkeit des Namens"
   ]
  },
  {
   "cell_type": "code",
   "execution_count": null,
   "metadata": {},
   "outputs": [],
   "source": [
    "predicted = model.predict(xsl)"
   ]
  },
  {
   "cell_type": "code",
   "execution_count": null,
   "metadata": {},
   "outputs": [],
   "source": [
    "# Zum Schluss müssen die Werte nur noch geplottet werden\n",
    "plt.plot(df_ca[\"Year\"], df_ca[\"Count\"])\n",
    "plt.plot(df_ca[\"Year\"], predicted)\n",
    "plt.show()"
   ]
  },
  {
   "cell_type": "code",
   "execution_count": null,
   "metadata": {},
   "outputs": [],
   "source": []
  }
 ],
 "metadata": {
  "kernelspec": {
   "display_name": "Python 3",
   "language": "python",
   "name": "python3"
  },
  "language_info": {
   "codemirror_mode": {
    "name": "ipython",
    "version": 3
   },
   "file_extension": ".py",
   "mimetype": "text/x-python",
   "name": "python",
   "nbconvert_exporter": "python",
   "pygments_lexer": "ipython3",
   "version": "3.8.8"
  }
 },
 "nbformat": 4,
 "nbformat_minor": 4
}
