{
 "cells": [
  {
   "cell_type": "markdown",
   "id": "composed-poland",
   "metadata": {
    "slideshow": {
     "slide_type": "slide"
    }
   },
   "source": [
    "# **Netzwerksicherheit**"
   ]
  },
  {
   "cell_type": "markdown",
   "id": "equipped-johnson",
   "metadata": {
    "slideshow": {
     "slide_type": "slide"
    }
   },
   "source": [
    "# Netzwerkmonitoring"
   ]
  },
  {
   "cell_type": "markdown",
   "id": "intensive-minister",
   "metadata": {
    "slideshow": {
     "slide_type": "subslide"
    }
   },
   "source": [
    "## Ziele und Motivation\n",
    "\n",
    "- Überwachung und regelmäßige Kontrolle von Netzwerken, deren Hardware (z. B. Server, Router, Switches), Diensten (z. B. Webserver, E-Mail-Dienste) und Ereignissen\n",
    "- Bestimmung der Netzelemente, deren Services, deren Status und Interaktionen, der Netztopologie sowie des Routings\n",
    "- Aufspüren fehlerhafter Hardware- und Software-Komponenten, Überlastungen, Verbindungsunterbrechungen und andere Störungen der Datenübertragung\n",
    "- Ausgangspunkt für die Risikoabschätzung und die Planung von Schutzmaßnahmen"
   ]
  },
  {
   "cell_type": "markdown",
   "id": "virgin-absence",
   "metadata": {
    "slideshow": {
     "slide_type": "subslide"
    }
   },
   "source": [
    "## Packet Capture\n",
    "\n",
    "- Packet Capture = Sammeln von Datenpaketen aus dem Netzwerkverkehr\n",
    "- Unabhängig von der Adressierung der Datenpakete\n",
    "- Werkzeug: Packet Sniffer bzw. Packet Analyzer\n",
    "- Ausführung als Software oder Hardware möglich\n",
    "\n",
    "![](https://schulen-jupyter.inf.hszg.de/user/adam/files/lehrerweiterbildung-2021/IT-Sicherheit/Dateien/PacketCapture.png?_xsrf=2%7Cda61d6af%7Cebfcad7819cf6a839f28d7c026d770aa%7C1631863282)"
   ]
  },
  {
   "cell_type": "markdown",
   "id": "transsexual-hebrew",
   "metadata": {
    "slideshow": {
     "slide_type": "slide"
    }
   },
   "source": [
    "## Wireshark\n",
    "- Sniffer: Mitschneiden, Darstellung und Analyse des Netzwerkverkehrs\n",
    "- Einsatz als Netzwerk-Analyse-Tool\n",
    "- Paketorientierte Arbeitsweise\n",
    "- Arbeitet auf Live-Daten oder aufgezeichnet Daten\n",
    "\n",
    "![](https://schulen-jupyter.inf.hszg.de/user/adam/files/lehrerweiterbildung-2021/IT-Sicherheit/Dateien/WS-Base.png?_xsrf=2%7Cda61d6af%7Cebfcad7819cf6a839f28d7c026d770aa%7C1631863282)"
   ]
  },
  {
   "cell_type": "markdown",
   "id": "engaging-hawaiian",
   "metadata": {
    "slideshow": {
     "slide_type": "subslide"
    }
   },
   "source": [
    "### Analyse der ISO/OSI-Schichten\n",
    "![](https://schulen-jupyter.inf.hszg.de/user/adam/files/lehrerweiterbildung-2021/IT-Sicherheit/Dateien/ISO-Schichten.PNG?_xsrf=2%7Cda61d6af%7Cebfcad7819cf6a839f28d7c026d770aa%7C1631863282)"
   ]
  },
  {
   "cell_type": "markdown",
   "id": "962b3c9a-1c2d-4755-a9cb-5f158964274a",
   "metadata": {
    "slideshow": {
     "slide_type": "subslide"
    }
   },
   "source": [
    "### Analyse der ISO/OSI-Schichten\n",
    "![](https://schulen-jupyter.inf.hszg.de/user/adam/files/lehrerweiterbildung-2021/IT-Sicherheit/Dateien/TCP-Schichten.png?_xsrf=2%7Cda61d6af%7Cebfcad7819cf6a839f28d7c026d770aa%7C1631863282)"
   ]
  },
  {
   "cell_type": "markdown",
   "id": "e5aac89e-0066-4c15-93ab-afe537114841",
   "metadata": {
    "slideshow": {
     "slide_type": "subslide"
    }
   },
   "source": [
    "### Paketdetails-Fenster\n",
    "- IP-Adressen: \n",
    "    - Sender: **192.168.1.39**\n",
    "    - Empfänger: **192.168.1.2**\n",
    "- Verwendendes Protokoll: **HTTP**\n",
    "- Paketlänge: **365 Bytes**\n",
    "\n",
    "![](https://schulen-jupyter.inf.hszg.de/user/adam/files/lehrerweiterbildung-2021/IT-Sicherheit/Dateien/Wireshark.png?_xsrf=2%7Cda61d6af%7Cebfcad7819cf6a839f28d7c026d770aa%7C1631863282)"
   ]
  },
  {
   "cell_type": "markdown",
   "id": "treated-broadcast",
   "metadata": {
    "slideshow": {
     "slide_type": "subslide"
    }
   },
   "source": [
    "- Port-Nummer des Dell-Gerätes (Webbrowser): **45738**\n",
    "\n",
    "![](https://schulen-jupyter.inf.hszg.de/user/adam/files/lehrerweiterbildung-2021/IT-Sicherheit/Dateien/Wireshark-TCP.png?_xsrf=2%7Cda61d6af%7Cebfcad7819cf6a839f28d7c026d770aa%7C1631863282)"
   ]
  },
  {
   "cell_type": "markdown",
   "id": "quiet-helping",
   "metadata": {
    "slideshow": {
     "slide_type": "subslide"
    }
   },
   "source": [
    "- HTTP-Packet beinhaltet HTML-Code für die Darstellung der Informationen auf Webseite\n",
    "\n",
    "![](https://schulen-jupyter.inf.hszg.de/user/adam/files/lehrerweiterbildung-2021/IT-Sicherheit/Dateien/Wireshark-HTML.png?_xsrf=2%7Cda61d6af%7Cebfcad7819cf6a839f28d7c026d770aa%7C1631863282)"
   ]
  },
  {
   "cell_type": "markdown",
   "id": "auburn-seven",
   "metadata": {
    "slideshow": {
     "slide_type": "slide"
    },
    "tags": []
   },
   "source": [
    "## Netzwerkmonitoring mit Python\n",
    "- Manuelle Analyse der Paketen mit eigenem Quellcode:\n",
    "    - Übersetzung und Auswertung einzelner Bytes im Netzwerkpaket\n",
    "    - Spezifische Kenntnisse über die Struktur der Internetprotokolle notwendig"
   ]
  },
  {
   "cell_type": "code",
   "execution_count": 46,
   "id": "a43d44f3-b266-4d21-b5b6-70012a769b32",
   "metadata": {
    "slideshow": {
     "slide_type": "subslide"
    },
    "tags": []
   },
   "outputs": [],
   "source": [
    "# Unpacks TCP segment\n",
    "def tcp_segment(data):\n",
    "   (src_port, dest_port, sequence, acknowledgment, offset_reserved_flags) = struct.unpack('! H H L L H', data[:14])\n",
    "   offset = (offset_reserved_flags >> 12) * 4\n",
    "   flag_urg = (offset_reserved_flags & 32) >> 5\n",
    "   flag_ack = (offset_reserved_flags & 16) >> 4\n",
    "   flag_psh = (offset_reserved_flags & 8) >> 3\n",
    "   flag_rst = (offset_reserved_flags & 4) >> 2\n",
    "   flag_syn = (offset_reserved_flags & 2) >> 1\n",
    "   flag_fin = offset_reserved_flags & 1\n",
    "   return src_port, dest_port, sequence, acknowledgment, flag_urg, flag_ack, flag_psh, flag_rst, flag_syn, flag_fin, data[offset:]"
   ]
  },
  {
   "cell_type": "markdown",
   "id": "directed-excuse",
   "metadata": {
    "slideshow": {
     "slide_type": "subslide"
    },
    "tags": []
   },
   "source": [
    "- **Verwendung von Python-Bibliotheken**"
   ]
  },
  {
   "cell_type": "markdown",
   "id": "6a7a0407-2a7c-4e90-9e90-e3f20105bf32",
   "metadata": {
    "slideshow": {
     "slide_type": "slide"
    },
    "tags": []
   },
   "source": [
    "### Scapy\n",
    "\n",
    "- Python-Programm und -Bibliothek zur Bearbeitung von Netzwerkpaketen:\n",
    "    - Senden, Lesen, Zerlegen, Fälschen\n",
    "- Ermöglicht den Bau von Tools, die Netzwerke untersuchen, scannen oder angreifen können\n",
    "- [https://scapy.net/](https://scapy.net/)\n",
    "\n",
    "![](https://schulen-jupyter.inf.hszg.de/user/adam/files/lehrerweiterbildung-2021/IT-Sicherheit/Dateien/Scapy_logo.png?_xsrf=2%7Cda61d6af%7Cebfcad7819cf6a839f28d7c026d770aa%7C1631863282)"
   ]
  },
  {
   "cell_type": "markdown",
   "id": "7a5d15d8-edb5-4f4d-86e4-d786b1835a7e",
   "metadata": {
    "slideshow": {
     "slide_type": "subslide"
    },
    "tags": []
   },
   "source": [
    "### Scapy Cheatsheet\n",
    "\n",
    "Bezeichnung von Schichten (layers) in Scapy:\n",
    "- 1: Netzzugang (Ethernet): **Ether**\n",
    "- 2: Internet: z. B. **IP**\n",
    "- 3: Transport: z. B. **TCP**\n",
    "- 4: Anwendung: z. B. **HTTP**\n",
    "\n",
    "Prüfung, on ein packet die gesuchte Schicht beinhaltet:\n",
    "- ```packet.haslayer(SCHICHT_NAME)```\n",
    "\n",
    "Zugriff auf die gesuchte Schicht (Header und Payload):\n",
    "- ```packet.getlayer(SCHICHT_NAME)```\n",
    "\n",
    "Attributen pro Schicht:\n",
    "- Payload-Daten: ```.payload``` \n",
    "- Quelladresse: ```.src``` \n",
    "- Zieladresse: ```.dst``` \n",
    "- Quellport: ```.sport``` \n",
    "- Zielport: ```.dport``` "
   ]
  },
  {
   "cell_type": "markdown",
   "id": "be4f155e-e0fc-4546-bd6e-47e3d1759bc2",
   "metadata": {
    "slideshow": {
     "slide_type": "slide"
    },
    "tags": []
   },
   "source": [
    "## Aufgabe 1 \n",
    "\n",
    "Geben Sie die alle Daten in der IP-Schicht vom ersten Packet.\n",
    "\n",
    "*Hinweis:* Überprüfen Sie dabei, ob das Packet die IP-Schicht überhaupt beinhaltet"
   ]
  },
  {
   "cell_type": "code",
   "execution_count": null,
   "id": "4b7a3666-1c5a-4fb0-92ea-ef2b70f7f932",
   "metadata": {
    "tags": []
   },
   "outputs": [],
   "source": [
    "from scapy.all import *\n",
    "from scapy.layers import *\n",
    "\n",
    "# Loading packets from a file\n",
    "packets = rdpcap('Dateien/Demonstrator_Traffic.pcapng')\n",
    "\n",
    "firstPacket = packets[0]\n",
    "if firstPacket.haslayer(IP):\n",
    "    print(firstPacket.getlayer(IP).payload)"
   ]
  },
  {
   "cell_type": "markdown",
   "id": "372af8e0-df44-4069-9279-f3697fe6f872",
   "metadata": {
    "slideshow": {
     "slide_type": "slide"
    },
    "tags": []
   },
   "source": [
    "## Aufgabe 2\n",
    "\n",
    "Schreiben Sie eine Python-Funktion um die folgenden Informationen von allen aufgezeichneten Paketen mithilfe von Scapy auszugeben:\n",
    "- MAC-Adressen von Sender und Empfänger\n",
    "- IP-Adressen von Sender und Empfänger"
   ]
  },
  {
   "cell_type": "code",
   "execution_count": null,
   "id": "1af019ea-83f1-4f1a-90d3-13d859946364",
   "metadata": {
    "jp-MarkdownHeadingCollapsed": true,
    "tags": []
   },
   "outputs": [],
   "source": [
    "from scapy.all import *\n",
    "\n",
    "from scapy.layers import *\n",
    "from scapy.layers.inet import *\n",
    "\n",
    "packets = rdpcap('Dateien/Demonstrator_Traffic.pcapng')\n",
    "\n",
    "# Let's iterate through every packet\n",
    "for packet in packets:\n",
    "    \n",
    "    if packet.haslayer(Ether):\n",
    "        print(\"Quell MAC-Adresse: \", packet.getlayer(Ether).src)\n",
    "        print(\"Ziel MAC-Adresse: \", packet.getlayer(Ether).dst)\n",
    "        \n",
    "    if packet.haslayer(IP):\n",
    "        print(\"Quell IP-Adresse: \", packet.getlayer(IP).src)\n",
    "        print(\"Ziel IP-Adresse: \", packet.getlayer(IP).dst)\n"
   ]
  },
  {
   "cell_type": "markdown",
   "id": "1154af15-e981-4c89-ab91-cf1afb0a05f8",
   "metadata": {
    "slideshow": {
     "slide_type": "slide"
    },
    "tags": []
   },
   "source": [
    "## Aufgabe 3\n",
    "\n",
    "Ergänzend zur Aufgabe 2, geben Sie die Datenlänge des Payloads von HTTP-Paketen aus\n",
    "\n",
    "*Hinweis:* Protokol HTTP verwendet standardmäßig den TCP-Port **80** als Zielportnummer"
   ]
  },
  {
   "cell_type": "code",
   "execution_count": null,
   "id": "c71177ca-bc01-489d-923c-6ea817770494",
   "metadata": {},
   "outputs": [],
   "source": [
    "from scapy.all import *\n",
    "\n",
    "from scapy.layers import *\n",
    "from scapy.layers.inet import *\n",
    "\n",
    "packets = rdpcap('Dateien/Demonstrator_Traffic.pcapng')\n",
    "\n",
    "# Let's iterate through every packet\n",
    "for packet in packets:\n",
    "    \n",
    "    #if packet.haslayer(Ether):\n",
    "    #    print(\"Quell MAC-Adresse: \", packet.getlayer(Ether).src)\n",
    "    #    print(\"Ziel MAC-Adresse: \", packet.getlayer(Ether).dst)\n",
    "        \n",
    "    #if packet.haslayer(IP):\n",
    "    #    print(\"Quell IP-Adresse: \", packet.getlayer(IP).src)\n",
    "    #    print(\"Ziel IP-Adresse: \", packet.getlayer(IP).dst)\n",
    "        \n",
    "    if packet.haslayer(TCP):\n",
    "        if packet.getlayer(TCP).dport == 80:\n",
    "            print(\"Option 1 - HTTP-Paketlänge: \", len(packet.getlayer(TCP).payload))\n",
    "        if packet.haslayer(HTTP):    \n",
    "            print(\"Option 2 - HTTP-Paketlänge: \", len(packet.getlayer(HTTP)))\n"
   ]
  },
  {
   "cell_type": "markdown",
   "id": "77ad7a5a-1e5f-420c-9f43-f28a549ae860",
   "metadata": {
    "slideshow": {
     "slide_type": "slide"
    },
    "tags": []
   },
   "source": [
    "## Aufgabe 4 - Optional\n",
    "\n",
    "Geben Sie den Inhalt aller HTML-Antworten mit ```show()``` Funktion aus! \n",
    "\n",
    "*Hinweis:* Scapy speichert die HTML-Anworten im Feld ```HTTPResponse```, welches man wie folgend zugreifft: ```http_layer[HTTPResponse]```"
   ]
  },
  {
   "cell_type": "code",
   "execution_count": null,
   "id": "timely-encounter",
   "metadata": {},
   "outputs": [],
   "source": [
    "from scapy.all import *\n",
    "\n",
    "# rdpcap comes from scapy and loads in our pcap file\n",
    "from scapy.layers import *\n",
    "from scapy.layers.inet import *\n",
    "\n",
    "packets = rdpcap('Dateien/Demonstrator_Traffic.pcapng')\n",
    "\n",
    "# Let's iterate through every packet\n",
    "for packet in packets:\n",
    "    \n",
    "    #if packet.haslayer(Ether):\n",
    "    #    print(\"Quell MAC-Adresse: \", packet.getlayer(Ether).src)\n",
    "    #    print(\"Ziel MAC-Adresse: \", packet.getlayer(Ether).dst)\n",
    "        \n",
    "    #if packet.haslayer(IP):\n",
    "    #    print(\"Quell IP-Adresse: \", packet.getlayer(IP).src)\n",
    "    #    print(\"Ziel IP-Adresse: \", packet.getlayer(IP).dst)\n",
    "        \n",
    "    if packet.haslayer(HTTP):\n",
    "        http_layer = packet.getlayer(HTTP)\n",
    "        if HTTPResponse in http_layer:\n",
    "            httpresp = http_layer[HTTPResponse]\n",
    "            httpresp.show()"
   ]
  },
  {
   "cell_type": "code",
   "execution_count": null,
   "id": "22f9535b-9e64-454f-b064-7806c191e157",
   "metadata": {},
   "outputs": [],
   "source": []
  }
 ],
 "metadata": {
  "kernelspec": {
   "display_name": "Python 3 (ipykernel)",
   "language": "python",
   "name": "python3"
  },
  "language_info": {
   "codemirror_mode": {
    "name": "ipython",
    "version": 3
   },
   "file_extension": ".py",
   "mimetype": "text/x-python",
   "name": "python",
   "nbconvert_exporter": "python",
   "pygments_lexer": "ipython3",
   "version": "3.9.6"
  }
 },
 "nbformat": 4,
 "nbformat_minor": 5
}
