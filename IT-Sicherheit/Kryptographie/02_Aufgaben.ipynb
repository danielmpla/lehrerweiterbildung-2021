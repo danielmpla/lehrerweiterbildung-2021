{
 "cells": [
  {
   "cell_type": "markdown",
   "id": "6319ac89-be4e-4c91-bb07-143fc373ef3a",
   "metadata": {
    "slideshow": {
     "slide_type": "slide"
    },
    "tags": []
   },
   "source": [
    "# **Kryptographie**"
   ]
  },
  {
   "cell_type": "markdown",
   "id": "c60d1e2b-314c-46a5-bece-4ffe22c52be8",
   "metadata": {
    "slideshow": {
     "slide_type": "subslide"
    },
    "tags": []
   },
   "source": [
    "## Caesar-Verschlüsselung mit ASCII-Zeichencode"
   ]
  },
  {
   "cell_type": "markdown",
   "id": "c8a3866a-0668-4872-a6b2-689cbcc1c7df",
   "metadata": {
    "slideshow": {
     "slide_type": "subslide"
    },
    "tags": []
   },
   "source": [
    "## Aufgabe 1 \n",
    "\n",
    "Schreiben Sie eine Methode zur Caesar-Verschlüsselung des folgenden Texts:\n",
    "\n",
    "**LEHRERWEITERBILDUNG**\n",
    "\n",
    "Verwenden Sie dabei einen Verschiebung-Schlüssel mit dem Wert **5**\n",
    "\n",
    "*Hinweis:* Überprüfen Sie dabei, dass Sie beim Addieren den ASCII-Wert 90 (\"Z\") nicht überschreiten. \n",
    "In diesem Fall müssen Sie vom aktuellen ASCII-Code den Wert 26 (die Länge des englischen Alphabets) abziehen, um wieder bei der Buchstabe \"A\" zu beginnen!"
   ]
  },
  {
   "cell_type": "code",
   "execution_count": null,
   "id": "88334e29-2e6b-4d2f-8d58-08b4e0cefa9d",
   "metadata": {},
   "outputs": [],
   "source": [
    "shift = 5 #Verschiebung nach rechts um 5 Buchstaben\n",
    "\n",
    "klartext = \"LEHRERWEITERBILDUNG\"\n",
    "geheimtext = \"\"\n",
    "\n",
    "for buchstabe in klartext:\n",
    "   \n",
    "    #\n",
    "    ## !Ihre Lösung!\n",
    "    #\n",
    "    \n",
    "           \n",
    "print(\"Klartext:\", klartext)\n",
    "print(\"Geheimtext:\", geheimtext)"
   ]
  },
  {
   "cell_type": "markdown",
   "id": "e4d97b48-b548-4fa8-ba08-da043c8f4a01",
   "metadata": {
    "slideshow": {
     "slide_type": "subslide"
    },
    "tags": []
   },
   "source": [
    "## Aufgabe 2\n",
    "Probieren Sie den folgenden Geheimtext mit einer Brute-Force-Methode in Python zu entschlüsseln und finden Sie dabei den Verschiebungswert.  \n",
    "Es wurden ASCII-Zeichen aus dem Bereich von 32 (\"!\") bis 126 (\"~\") verwendet. \n",
    "\n",
    "**Vor|o|\"os{\\~o|lsvn xq*Z$~ryx**\n",
    "\n",
    "*Hinweis:* Probieren Sie in einer ```for```-Schleife verschiedene Werte für die Verschiebung aus. Diesmal werden die Buchstaben nach links (also mit Subtraktion!) verschoben.\n",
    "Überprüfen Sie dabei, dass Sie beim Subtrahieren den ASCII-Wert 32 (\"!\") nicht überschreiten. \n",
    "In diesem Fall müssen Sie vom aktuellen ASCII-Code den Wert 95 (die Anzahl der möglichen ASCII-Zeichen zwischen 32 und 126) addieren, um wieder beim Zeichen \"~\" (ASCII-Code 126) zu beginnen!"
   ]
  },
  {
   "cell_type": "code",
   "execution_count": null,
   "id": "6f0fda48-6d0c-4280-b0cd-d497982533ca",
   "metadata": {},
   "outputs": [],
   "source": [
    "geheimtext=\"Vor|o|\\\"os~o|lsvn xq*Z$~ryx\"\n",
    "\n",
    "for shift in range (1,50):\n",
    "    klartext=\"\"\n",
    "    for buchstabe in geheimtext:\n",
    "        \n",
    "        #\n",
    "        ## !Ihre Lösung!\n",
    "        #\n",
    "    \n",
    "            \n",
    "    print(\"Shift \", shift, \"; Klartext:\", klartext)"
   ]
  }
 ],
 "metadata": {
  "kernelspec": {
   "display_name": "Python 3 (ipykernel)",
   "language": "python",
   "name": "python3"
  },
  "language_info": {
   "codemirror_mode": {
    "name": "ipython",
    "version": 3
   },
   "file_extension": ".py",
   "mimetype": "text/x-python",
   "name": "python",
   "nbconvert_exporter": "python",
   "pygments_lexer": "ipython3",
   "version": "3.9.6"
  }
 },
 "nbformat": 4,
 "nbformat_minor": 5
}
