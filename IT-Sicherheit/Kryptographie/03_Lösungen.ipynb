{
 "cells": [
  {
   "cell_type": "markdown",
   "id": "449583ba-78ec-4c87-82a2-d742c9d2f470",
   "metadata": {
    "slideshow": {
     "slide_type": "slide"
    },
    "tags": []
   },
   "source": [
    "# **Kryptographie**"
   ]
  },
  {
   "cell_type": "markdown",
   "id": "2d5d410c-897e-43ea-85ac-0a5489d2f06f",
   "metadata": {
    "slideshow": {
     "slide_type": "subslide"
    },
    "tags": []
   },
   "source": [
    "## Caesar-Verschlüsselung mit ASCII-Zeichencode"
   ]
  },
  {
   "cell_type": "markdown",
   "id": "411f9e22-e478-4e9d-8681-6c4e390d8b2b",
   "metadata": {
    "slideshow": {
     "slide_type": "subslide"
    },
    "tags": []
   },
   "source": [
    "## Aufgabe 1 \n",
    "\n",
    "Schreiben Sie eine Methode zur Caesar-Verschlüsselung des folgenden Texts:\n",
    "\n",
    "**LEHRERWEITERBILDUNG**\n",
    "\n",
    "Verwenden Sie dabei einen Verschiebung-Schlüssel mit dem Wert **5**\n",
    "\n",
    "*Hinweis:* Überprüfen Sie dabei, dass Sie beim Addieren den ASCII-Wert 90 (\"Z\") nicht überschreiten. \n",
    "In diesem Fall müssen Sie vom aktuellen ASCII-Code den Wert 26 (die Länge des englischen Alphabets) abziehen, um wieder bei der Buchstabe \"A\" zu beginnen!"
   ]
  },
  {
   "cell_type": "code",
   "execution_count": null,
   "id": "64cd266e-54e8-4b8d-b287-173e849673bf",
   "metadata": {
    "slideshow": {
     "slide_type": "subslide"
    },
    "tags": []
   },
   "outputs": [],
   "source": [
    "shift = 5 #Verschiebung nach rechts um 5 Buchstaben\n",
    "\n",
    "klartext = \"LEHRERWEITERBILDUNG\"\n",
    "geheimtext = \"\"\n",
    "\n",
    "for buchstabe in klartext:\n",
    "    buchstabe_ascii = ord(buchstabe)\n",
    "    \n",
    "    neue_buchstabe_ascii = buchstabe_ascii + shift  \n",
    "    if neue_buchstabe_ascii > 90:\n",
    "        neue_buchstabe_ascii -= 26\n",
    "    \n",
    "    geheimtext += chr(neue_buchstabe_ascii)\n",
    "        \n",
    "print(\"Klartext:\", klartext)\n",
    "print(\"Geheimtext:\", geheimtext)"
   ]
  },
  {
   "cell_type": "markdown",
   "id": "83389e64-8080-4336-93bf-40257a7a85f3",
   "metadata": {
    "slideshow": {
     "slide_type": "subslide"
    },
    "tags": []
   },
   "source": [
    "## Aufgabe 2\n",
    "Probieren Sie den folgenden Geheimtext mit einer Brute-Force-Methode in Python zu entschlüsseln und finden Sie dabei den Verschiebungswert.  \n",
    "Es wurden ASCII-Zeichen aus dem Bereich von 32 (\"!\") bis 126 (\"~\") verwendet. \n",
    "\n",
    "**Vor|o|\"os{\\~o|lsvn xq*Z$~ryx**\n",
    "\n",
    "*Hinweis:* Probieren Sie in einer ```for```-Schleife verschiedene Werte für die Verschiebung aus. Diesmal werden die Buchstaben nach links (also mit Subtraktion!) verschoben.\n",
    "Überprüfen Sie dabei, dass Sie beim Subtrahieren den ASCII-Wert 32 (\"!\") nicht überschreiten. \n",
    "In diesem Fall müssen Sie vom aktuellen ASCII-Code den Wert 95 (die Anzahl der möglichen ASCII-Zeichen zwischen 32 und 126) addieren, um wieder beim Zeichen \"~\" (ASCII-Code 126) zu beginnen!"
   ]
  },
  {
   "cell_type": "code",
   "execution_count": null,
   "id": "947a70d0-06cc-4341-b7b2-dc244718fb41",
   "metadata": {
    "slideshow": {
     "slide_type": "subslide"
    },
    "tags": []
   },
   "outputs": [],
   "source": [
    "geheimtext=\"Vor|o|\\\"os~o|lsvn xq*Z$~ryx\"\n",
    "\n",
    "for shift in range (1,50):\n",
    "    klartext=\"\"\n",
    "    for buchstabe in geheimtext:\n",
    "        buchstabe_ascii = ord(buchstabe)\n",
    "    \n",
    "        neue_buchstabe_ascii = buchstabe_ascii - shift  \n",
    "    \n",
    "        if neue_buchstabe_ascii < 32:\n",
    "            neue_buchstabe_ascii += 95\n",
    "    \n",
    "        klartext += chr(neue_buchstabe_ascii)\n",
    "    print(\"Shift \", shift, \"; Klartext:\", klartext)"
   ]
  }
 ],
 "metadata": {
  "kernelspec": {
   "display_name": "Python 3 (ipykernel)",
   "language": "python",
   "name": "python3"
  },
  "language_info": {
   "codemirror_mode": {
    "name": "ipython",
    "version": 3
   },
   "file_extension": ".py",
   "mimetype": "text/x-python",
   "name": "python",
   "nbconvert_exporter": "python",
   "pygments_lexer": "ipython3",
   "version": "3.9.6"
  }
 },
 "nbformat": 4,
 "nbformat_minor": 5
}
