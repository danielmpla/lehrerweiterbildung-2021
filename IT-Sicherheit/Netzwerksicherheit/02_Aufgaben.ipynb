{
 "cells": [
  {
   "cell_type": "markdown",
   "id": "c0498cd8-2d4b-45d8-b7f1-66f98840085e",
   "metadata": {
    "slideshow": {
     "slide_type": "slide"
    },
    "tags": []
   },
   "source": [
    "# **Netzwerksicherheit**"
   ]
  },
  {
   "cell_type": "markdown",
   "id": "0cd7c3e5-bf69-4440-b1f0-2ef23b887558",
   "metadata": {
    "slideshow": {
     "slide_type": "subslide"
    },
    "tags": []
   },
   "source": [
    "## Netzwerkmonitoring mit Python"
   ]
  },
  {
   "cell_type": "markdown",
   "id": "a681e078-f3fe-4592-a52b-c2e9062fb698",
   "metadata": {
    "slideshow": {
     "slide_type": "subslide"
    },
    "tags": []
   },
   "source": [
    "## Aufgabe 1 \n",
    "\n",
    "Geben Sie alle Daten des Payloads in der IP-Schicht vom ersten Paket aus.\n",
    "\n",
    "*Hinweis:* Überprüfen Sie dabei, ob das Paket die IP-Schicht überhaupt beinhaltet"
   ]
  },
  {
   "cell_type": "code",
   "execution_count": 3,
   "id": "dc7f6e7f-1edb-4f58-b691-ddd1bc181ac2",
   "metadata": {},
   "outputs": [],
   "source": [
    "from scapy.all import *\n",
    "from scapy.layers import *\n",
    "\n",
    "# Loading packets from a file\n",
    "packets = rdpcap('Dateien/Demonstrator_Traffic.pcapng')\n",
    "\n",
    "#\n",
    "## !Ihre Lösung!\n",
    "#"
   ]
  },
  {
   "cell_type": "markdown",
   "id": "0d7a3437-754f-44dd-a6ec-c0c06489ca98",
   "metadata": {
    "slideshow": {
     "slide_type": "subslide"
    },
    "tags": []
   },
   "source": [
    "## Aufgabe 2\n",
    "\n",
    "Schreiben Sie eine Python-Funktion, um die folgenden Informationen der ersten ***10*** aufgezeichneten Paketen mithilfe von Scapy auszugeben:\n",
    "- MAC-Adressen von Sender und Empfänger\n",
    "- IP-Adressen von Sender und Empfänger"
   ]
  },
  {
   "cell_type": "code",
   "execution_count": 4,
   "id": "dfc7d31f-6721-4d6b-8f6c-6e5291ffc270",
   "metadata": {},
   "outputs": [],
   "source": [
    "from scapy.all import *\n",
    "from scapy.layers import *\n",
    "from scapy.layers.inet import *\n",
    "\n",
    "packets = rdpcap('Dateien/Demonstrator_Traffic.pcapng')\n",
    "\n",
    "#\n",
    "## !Ihre Lösung!\n",
    "#"
   ]
  },
  {
   "cell_type": "markdown",
   "id": "1cfc457a-d15d-494d-98fb-ad0686d8746e",
   "metadata": {
    "slideshow": {
     "slide_type": "subslide"
    },
    "tags": []
   },
   "source": [
    "## Aufgabe 3\n",
    "\n",
    "Ergänzend zur Aufgabe 2, geben Sie die Datenlänge des Payloads von den ersten ***10*** HTTP-Paketen aus.\n",
    "\n",
    "*Hinweis:* Protokoll HTTP verwendet standardmäßig den TCP-Port **80** als Zielport"
   ]
  },
  {
   "cell_type": "code",
   "execution_count": 5,
   "id": "b68bf000-fed0-48ea-8e76-86b30c150b12",
   "metadata": {},
   "outputs": [],
   "source": [
    "from scapy.all import *\n",
    "\n",
    "from scapy.layers import *\n",
    "from scapy.layers.inet import *\n",
    "from scapy.layers.http import HTTP\n",
    "\n",
    "packets = rdpcap('Dateien/Demonstrator_Traffic.pcapng')\n",
    "\n",
    "#\n",
    "## !Ihre Lösung!\n",
    "#"
   ]
  },
  {
   "cell_type": "markdown",
   "id": "94ea0ef3-77ec-44e5-953d-6356008b6448",
   "metadata": {
    "slideshow": {
     "slide_type": "subslide"
    },
    "tags": []
   },
   "source": [
    "## Aufgabe 4 - Optional\n",
    "\n",
    "Geben Sie den kompletten Inhalt des Paketes mit der ```show()``` Funktion aus, nur wenn es sich um eine HTML-Anfrage oder eine HTML-Antwort handelt.\n",
    "\n",
    "*Hinweis:* Scapy speichert die HTML-Anfragen in der Schicht ```HTTPRequest``` und die HTML-Antworten in der Schicht ```HTTPResponse```.\n",
    "Überprüfen Sie zuerst, ob das Paket die jeweilige HTTP-Schicht überhaupt beinhaltet"
   ]
  },
  {
   "cell_type": "code",
   "execution_count": 7,
   "id": "0cfc6342-8b2f-459f-858a-61cc60395fd3",
   "metadata": {},
   "outputs": [],
   "source": [
    "from scapy.all import *\n",
    "\n",
    "# rdpcap comes from scapy and loads in our pcap file\n",
    "from scapy.layers import *\n",
    "from scapy.layers.inet import *\n",
    "from scapy.layers.http import HTTP, HTTPResponse, HTTPRequest \n",
    "\n",
    "packets = rdpcap('Dateien/Demonstrator_Traffic.pcapng')\n",
    "\n",
    "#\n",
    "## !Ihre Lösung!\n",
    "#"
   ]
  }
 ],
 "metadata": {
  "kernelspec": {
   "display_name": "Python 3 (ipykernel)",
   "language": "python",
   "name": "python3"
  },
  "language_info": {
   "codemirror_mode": {
    "name": "ipython",
    "version": 3
   },
   "file_extension": ".py",
   "mimetype": "text/x-python",
   "name": "python",
   "nbconvert_exporter": "python",
   "pygments_lexer": "ipython3",
   "version": "3.9.6"
  }
 },
 "nbformat": 4,
 "nbformat_minor": 5
}
