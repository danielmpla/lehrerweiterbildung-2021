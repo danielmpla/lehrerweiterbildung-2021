{
 "cells": [
  {
   "cell_type": "markdown",
   "id": "d49d3a6e-5b25-4d40-9403-0babf900a800",
   "metadata": {
    "slideshow": {
     "slide_type": "slide"
    },
    "tags": []
   },
   "source": [
    "# **Netzwerksicherheit**"
   ]
  },
  {
   "cell_type": "markdown",
   "id": "275bd433-9940-4487-8378-2a7414133552",
   "metadata": {
    "slideshow": {
     "slide_type": "subslide"
    },
    "tags": []
   },
   "source": [
    "## Netzwerkmonitoring mit Python"
   ]
  },
  {
   "cell_type": "markdown",
   "id": "c89f386c-814c-4319-8557-c6f0a92fea6c",
   "metadata": {
    "slideshow": {
     "slide_type": "subslide"
    },
    "tags": []
   },
   "source": [
    "## Aufgabe 1 \n",
    "\n",
    "Geben Sie alle Daten des Payloads in der IP-Schicht vom ersten Paket aus.\n",
    "\n",
    "*Hinweis:* Überprüfen Sie dabei, ob das Paket die IP-Schicht überhaupt beinhaltet"
   ]
  },
  {
   "cell_type": "code",
   "execution_count": null,
   "id": "43737de9-4c2f-47df-9898-1ba4223130a8",
   "metadata": {},
   "outputs": [],
   "source": [
    "from scapy.all import *\n",
    "from scapy.layers import *\n",
    "\n",
    "# Loading packets from a file\n",
    "packets = rdpcap('Dateien/Demonstrator_Traffic.pcapng')\n",
    "\n",
    "firstPacket = packets[0]\n",
    "if firstPacket.haslayer(IP):\n",
    "    firstPacket.getlayer(IP).payload.show()"
   ]
  },
  {
   "cell_type": "markdown",
   "id": "6db94939-f069-4cc7-b548-798e7e952542",
   "metadata": {
    "slideshow": {
     "slide_type": "subslide"
    },
    "tags": []
   },
   "source": [
    "## Aufgabe 2\n",
    "\n",
    "Schreiben Sie eine Python-Funktion, um die folgenden Informationen der ersten ***10*** aufgezeichneten Paketen mithilfe von Scapy auszugeben:\n",
    "- MAC-Adressen von Sender und Empfänger\n",
    "- IP-Adressen von Sender und Empfänger"
   ]
  },
  {
   "cell_type": "code",
   "execution_count": null,
   "id": "f8cc865d-8c18-423f-b80d-7f3330c12180",
   "metadata": {
    "slideshow": {
     "slide_type": "subslide"
    },
    "tags": []
   },
   "outputs": [],
   "source": [
    "from scapy.all import *\n",
    "from scapy.layers import *\n",
    "from scapy.layers.inet import *\n",
    "\n",
    "packets = rdpcap('Dateien/Demonstrator_Traffic.pcapng')\n",
    "count = 0\n",
    "\n",
    "for packet in packets[:10]:\n",
    "    count+=1\n",
    "    print(\"Packet \", count)\n",
    "    if packet.haslayer(Ether):\n",
    "        print(\"  Quell MAC-Adresse: \", packet.getlayer(Ether).src)\n",
    "        print(\"  Ziel MAC-Adresse: \", packet.getlayer(Ether).dst)\n",
    "        \n",
    "    if packet.haslayer(IP):\n",
    "        print(\"  Quell IP-Adresse: \", packet.getlayer(IP).src)\n",
    "        print(\"  Ziel IP-Adresse: \", packet.getlayer(IP).dst)"
   ]
  },
  {
   "cell_type": "markdown",
   "id": "95b189b9-7c38-4f50-b155-f8c3cfd0d182",
   "metadata": {
    "slideshow": {
     "slide_type": "subslide"
    },
    "tags": []
   },
   "source": [
    "## Aufgabe 3\n",
    "\n",
    "Ergänzend zur Aufgabe 2, geben Sie die Datenlänge des Payloads von den ersten ***10*** HTTP-Paketen aus.\n",
    "\n",
    "*Hinweis:* Protokoll HTTP verwendet standardmäßig den TCP-Port **80** als Zielport"
   ]
  },
  {
   "cell_type": "code",
   "execution_count": null,
   "id": "33bd1c56-0f89-403e-bb03-163ddec418fa",
   "metadata": {
    "slideshow": {
     "slide_type": "subslide"
    },
    "tags": []
   },
   "outputs": [],
   "source": [
    "from scapy.all import *\n",
    "\n",
    "from scapy.layers import *\n",
    "from scapy.layers.inet import *\n",
    "from scapy.layers.http import HTTP\n",
    "\n",
    "packets = rdpcap('Dateien/Demonstrator_Traffic.pcapng')\n",
    "count = 0\n",
    "\n",
    "for packet in packets[:10]:\n",
    "    count+=1\n",
    "    print(\"Packet \", count)\n",
    "    #if packet.haslayer(Ether):\n",
    "    #    print(\"  Quell MAC-Adresse: \", packet.getlayer(Ether).src)\n",
    "    #    print(\"  Ziel MAC-Adresse: \", packet.getlayer(Ether).dst)\n",
    "        \n",
    "    #if packet.haslayer(IP):\n",
    "    #    print(\"  Quell IP-Adresse: \", packet.getlayer(IP).src)\n",
    "    #    print(\"  Ziel IP-Adresse: \", packet.getlayer(IP).dst)\n",
    "        \n",
    "    if packet.haslayer(TCP):\n",
    "        if packet.getlayer(TCP).dport == 80:\n",
    "            print(\"  Option 1 - HTTP-Paketlänge: \", len(packet.getlayer(TCP).payload))\n",
    "        if packet.haslayer(HTTP):    \n",
    "            print(\"  Option 2 - HTTP-Paketlänge: \", len(packet.getlayer(HTTP)))\n",
    "        else:\n",
    "            print(\"  Kein HTML-Paket!\")\n"
   ]
  },
  {
   "cell_type": "markdown",
   "id": "6380c0d3-ec6d-4b31-96f5-c0ba43896494",
   "metadata": {
    "slideshow": {
     "slide_type": "subslide"
    },
    "tags": []
   },
   "source": [
    "## Aufgabe 4 - Optional\n",
    "\n",
    "Geben Sie den kompletten Inhalt des Paketes mit der ```show()``` Funktion aus, nur wenn es sich um eine HTML-Anfrage oder eine HTML-Antwort handelt.\n",
    "\n",
    "*Hinweis:* Scapy speichert die HTML-Anfragen in der Schicht ```HTTPRequest``` und die HTML-Antworten in der Schicht ```HTTPResponse```.\n",
    "Überprüfen Sie zuerst, ob das Paket die jeweilige HTTP-Schicht überhaupt beinhaltet\n"
   ]
  },
  {
   "cell_type": "code",
   "execution_count": null,
   "id": "8b3bcac0-5c07-4dd7-9f1e-21d3dda05f2e",
   "metadata": {
    "slideshow": {
     "slide_type": "subslide"
    },
    "tags": []
   },
   "outputs": [],
   "source": [
    "from scapy.all import *\n",
    "\n",
    "# rdpcap comes from scapy and loads in our pcap file\n",
    "from scapy.layers import *\n",
    "from scapy.layers.inet import *\n",
    "from scapy.layers.http import HTTP, HTTPResponse, HTTPRequest \n",
    "\n",
    "packets = rdpcap('Dateien/Demonstrator_Traffic.pcapng')\n",
    "count = 0\n",
    "\n",
    "for packet in packets:\n",
    "   \n",
    "    count+=1\n",
    "    print(\"Packet \", count)\n",
    "    \n",
    "    if packet.haslayer(HTTPRequest):\n",
    "        print(\"HTML-Anfrage\")\n",
    "        packet.show()\n",
    "   \n",
    "    elif packet.haslayer(HTTPResponse):\n",
    "        print(\"HTML-Antwort\")\n",
    "        packet.show()\n",
    "      "
   ]
  }
 ],
 "metadata": {
  "kernelspec": {
   "display_name": "Python 3 (ipykernel)",
   "language": "python",
   "name": "python3"
  },
  "language_info": {
   "codemirror_mode": {
    "name": "ipython",
    "version": 3
   },
   "file_extension": ".py",
   "mimetype": "text/x-python",
   "name": "python",
   "nbconvert_exporter": "python",
   "pygments_lexer": "ipython3",
   "version": "3.9.6"
  }
 },
 "nbformat": 4,
 "nbformat_minor": 5
}
