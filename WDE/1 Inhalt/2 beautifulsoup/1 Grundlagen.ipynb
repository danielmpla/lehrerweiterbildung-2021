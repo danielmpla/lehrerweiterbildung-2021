{
 "cells": [
  {
   "cell_type": "markdown",
   "id": "higher-spread",
   "metadata": {
    "slideshow": {
     "slide_type": "slide"
    },
    "tags": []
   },
   "source": [
    "# Grundlagen\n"
   ]
  },
  {
   "cell_type": "code",
   "execution_count": 3,
   "id": "grand-shannon",
   "metadata": {},
   "outputs": [],
   "source": [
    "# Importieren von BeautifulSoup und Requests\n",
    "from bs4 import BeautifulSoup\n",
    "import requests"
   ]
  },
  {
   "cell_type": "code",
   "execution_count": 4,
   "id": "resident-taylor",
   "metadata": {
    "slideshow": {
     "slide_type": "subslide"
    },
    "tags": []
   },
   "outputs": [
    {
     "name": "stdout",
     "output_type": "stream",
     "text": [
      "HTML Dokument erfolgreich geladen.\n",
      "Zeichenanzahl des HTML Dokuments: 155060\n"
     ]
    }
   ],
   "source": [
    "# Laden eines HTML Dokuments vom Webserver \n",
    "request = requests.get(\"https://www.hszg.de/hochschule/aktuelles/neuigkeiten\")\n",
    "if request.status_code == 200:\n",
    "    html = request.content\n",
    "    print(\"HTML Dokument erfolgreich geladen.\")\n",
    "else: \n",
    "    print(\"Fehler beim laden der Website!\")\n",
    "    html = \"\"\n",
    "print(f'Zeichenanzahl des HTML Dokuments: {len(html)}')"
   ]
  },
  {
   "cell_type": "code",
   "execution_count": 7,
   "id": "three-commissioner",
   "metadata": {
    "slideshow": {
     "slide_type": "subslide"
    },
    "tags": []
   },
   "outputs": [
    {
     "name": "stdout",
     "output_type": "stream",
     "text": [
      "HTML Dokument erfolgreich geladen.\n",
      "Zeichenanzahl des HTML Dokuments: 7189\n"
     ]
    }
   ],
   "source": [
    "# Laden des HTML Dokuments aus lokaler Resource\n",
    "try:\n",
    "    with open(\"../../website/index.html\", \"r\", encoding=\"UTF-8\") as file:\n",
    "        html_local = file.read()\n",
    "        print(\"HTML Dokument erfolgreich geladen.\")\n",
    "        print(f'Zeichenanzahl des HTML Dokuments: {len(html_local)}')\n",
    "except FileNotFoundError:\n",
    "    print(\"Datei nicht gefunden. Bitte den angegebenen Pfad überprüfen.\")"
   ]
  },
  {
   "cell_type": "code",
   "execution_count": 36,
   "id": "finished-walter",
   "metadata": {
    "slideshow": {
     "slide_type": "subslide"
    },
    "tags": []
   },
   "outputs": [],
   "source": [
    "# BeautifulSoup instanziieren\n",
    "soup = BeautifulSoup(html, \"html.parser\")"
   ]
  },
  {
   "cell_type": "markdown",
   "id": "appreciated-signature",
   "metadata": {
    "tags": []
   },
   "source": [
    "## Parser übersicht\n",
    "\n",
    "<table style=\"float:left; font-size:1.1em\" >\n",
    "<thead>\n",
    "  <tr>\n",
    "    <th>Parser</th>\n",
    "    <th>Nutzung</th>\n",
    "    <th>Vorteile</th>\n",
    "    <th>Nachteile</th>\n",
    "  </tr>\n",
    "</thead>\n",
    "<tbody>\n",
    "  <tr>\n",
    "    <td>Python's html.parser</td>\n",
    "    <td>BeautifulSoup(markup, \"html.parser\") oder per Default</td>\n",
    "      <td><ul>\n",
    "          <li>integriert in Python</li>\n",
    "          <li>durchschnittliche Geschwindigkeit</li>\n",
    "          <li>nachsichtig im Umgang mit unsauberem HTML</li>\n",
    "          </ul></td>\n",
    "    <td><ul>\n",
    "          <li>langsamer als lxml</li>\n",
    "          <li>nicht so nachsichtig wie html5lib</li>\n",
    "          </ul>\n",
    "    </td>\n",
    "  </tr>\n",
    "  <tr>\n",
    "    <td>lxml's HTML parser</td>\n",
    "    <td>BeautifulSoup(markup, \"lxml\")</td>\n",
    "        <td><ul>\n",
    "            <li>sehr schnell</li>\n",
    "            <li>nachsichtig im Umgang mit unsauberem HTML</li>\n",
    "    </ul></td>\n",
    "        <td><ul>\n",
    "            <li>externe C Bibliothek</li>\n",
    "    </ul></td>\n",
    "  </tr>\n",
    "  <tr>\n",
    "    <td>lxml's XML parser</td>\n",
    "    <td>BeautifulSoup(markup, \"lxml-xml\")<br>\n",
    "        BeautifulSoup(markup, \"xml\")\n",
    "    </td>\n",
    "    <td><ul>\n",
    "            <li>sehr schnell</li>\n",
    "            <li>einziger XML Parser</li>\n",
    "    </ul></td>\n",
    "        <td><ul>\n",
    "            <li>externe C Bibliothek</li>\n",
    "    </ul></td>\n",
    "  </tr>\n",
    "  <tr>\n",
    "    <td>html5lib</td>\n",
    "    <td>BeautifulSoup(markup, \"html5lib\")</td>\n",
    "        <td><ul>\n",
    "            <li>sehr nachsichtig im Umgang mit unsauberem HTML</li>\n",
    "            <li>Verarbeitet HTML Seiten wie ein Webbrowser</li>\n",
    "            <li>erstellt valides HTML5</li>\n",
    "    </ul></td>\n",
    "        <td><ul>\n",
    "            <li>sehr langsam</li>\n",
    "            <li>externe Python Bibliothek</li>\n",
    "    </ul></td>\n",
    "  </tr>\n",
    "</tbody>\n",
    "</table>"
   ]
  },
  {
   "cell_type": "markdown",
   "id": "intense-venice",
   "metadata": {
    "slideshow": {
     "slide_type": "slide"
    },
    "tags": []
   },
   "source": [
    "## Typen\n",
    "\n",
    "**BeautifulSoup**\n",
    "- Repräsentiert das komplette eingelesene HTML oder XML Dokument in dem gesucht, navigiert, extrahiert und modifiziert werden kann\n",
    "**Tag**\n",
    "- Repräsentiert das HTML oder XML Tag mit allen Attributen und der Position im DOM\n",
    "- BeautifulSoup Objekt ebenfalls ein Tag jedoch ohne Attribute\n",
    "**NavigableString**\n",
    "- Repräsentiert den Text eines HTML oder XML Tags wobei er ebenfalls Methoden zum navigieren und Suchen bereitstellt\n",
    "- So kann bspw. weiterhin zu Nachbar-, Kind- oder Elternelementen des NavigableString navigiert oder innerhalb des NavigableString gesucht werden\n"
   ]
  },
  {
   "cell_type": "markdown",
   "id": "documentary-domestic",
   "metadata": {
    "slideshow": {
     "slide_type": "slide"
    },
    "tags": []
   },
   "source": [
    "## Extrahieren\n",
    "\n",
    "### Extrahieren von Text"
   ]
  },
  {
   "cell_type": "code",
   "execution_count": 43,
   "id": "filled-uncertainty",
   "metadata": {},
   "outputs": [
    {
     "name": "stdout",
     "output_type": "stream",
     "text": [
      "<p>Beautiful Soup ist eine Python Bibliothek um Daten aus XML und HTML zu extrahieren.</p>\n",
      "<p>Sie ermöglicht aber auch das Durchsuchen, die Navigation und Modifikation des Dokuments.</p>\n",
      "Beautiful Soup ist eine Python Bibliothek um Daten aus XML und HTML zu extrahieren.\n",
      "Sie ermöglicht aber auch das Durchsuchen, die Navigation und Modifikation des Dokuments.\n",
      "None\n"
     ]
    }
   ],
   "source": [
    "markup = \"\"\"<p>Beautiful Soup ist eine Python Bibliothek um Daten aus XML und HTML zu extrahieren.</p>\n",
    "            <p>Sie ermöglicht aber auch das Durchsuchen, die Navigation und Modifikation des Dokuments.</p>\"\"\"\n",
    "soup = BeautifulSoup(markup, \"html.parser\")\n",
    "\n",
    "print(soup)\n",
    "print(soup.text)\n",
    "print(soup.string)"
   ]
  },
  {
   "cell_type": "code",
   "execution_count": 42,
   "id": "adopted-jumping",
   "metadata": {},
   "outputs": [
    {
     "name": "stdout",
     "output_type": "stream",
     "text": [
      "Beautiful Soup ist eine Python Bibliothek um Daten aus XML und HTML zu extrahieren.\n",
      "Beautiful Soup ist eine Python Bibliothek um Daten aus XML und HTML zu extrahieren.\n"
     ]
    }
   ],
   "source": [
    "markup = \"<p>Beautiful Soup ist eine Python Bibliothek um Daten aus XML und HTML zu extrahieren.</p>\"\n",
    "soup = BeautifulSoup(markup, \"html.parser\")\n",
    "\n",
    "print(soup.text)\n",
    "print(soup.string)"
   ]
  },
  {
   "cell_type": "markdown",
   "id": "faced-louis",
   "metadata": {},
   "source": [
    "### Extrahieren von Attributen"
   ]
  },
  {
   "cell_type": "code",
   "execution_count": 19,
   "id": "taken-conditioning",
   "metadata": {},
   "outputs": [
    {
     "name": "stdout",
     "output_type": "stream",
     "text": [
      "paragraph\n",
      "['text-bold']\n",
      "{'class': ['text-bold'], 'id': 'paragraph'}\n"
     ]
    }
   ],
   "source": [
    "markup = \"<p class='text-bold' id='paragraph'>Beautiful Soup ist eine Python Bibliothek um Daten aus XML und HTML zu extrahieren.</p>\"\n",
    "soup = BeautifulSoup(markup, \"html.parser\")\n",
    "\n",
    "print(soup.p['id'])\n",
    "print(soup.p['class'])\n",
    "print(soup.p.attrs)"
   ]
  }
 ],
 "metadata": {
  "kernelspec": {
   "display_name": "Python 3 (ipykernel)",
   "language": "python",
   "name": "python3"
  },
  "language_info": {
   "codemirror_mode": {
    "name": "ipython",
    "version": 3
   },
   "file_extension": ".py",
   "mimetype": "text/x-python",
   "name": "python",
   "nbconvert_exporter": "python",
   "pygments_lexer": "ipython3",
   "version": "3.9.6"
  }
 },
 "nbformat": 4,
 "nbformat_minor": 5
}
