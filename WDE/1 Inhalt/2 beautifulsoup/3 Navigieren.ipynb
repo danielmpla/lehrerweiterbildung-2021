{
 "cells": [
  {
   "cell_type": "markdown",
   "id": "pacific-beauty",
   "metadata": {},
   "source": [
    "# Navigieren\n",
    "- Nach unten Navigieren\n",
    "- Nach oben Navigieren\n",
    "- Seitwärts Navigieren\n"
   ]
  },
  {
   "cell_type": "code",
   "execution_count": null,
   "id": "southern-chinese",
   "metadata": {},
   "outputs": [],
   "source": [
    "from bs4 import BeautifulSoup\n",
    "markup = \"\"\"<body>\n",
    "            <h1 class='text-bold'>CSS-Selektoren</h1>\n",
    "            <p class='text-bold'>CSS-Selektoren ermöglichen das identifizieren von <a href='#'>HTML</a> Elementen</p>\n",
    "            <p id='paragraph' class='text-underline'>Es können Tags, Klassen und Id`s genutzt werden</p>\n",
    "            </body>\"\"\"\n",
    "soup = BeautifulSoup(markup, \"html.parser\")"
   ]
  },
  {
   "cell_type": "markdown",
   "id": "threatened-basement",
   "metadata": {},
   "source": [
    "## Nach unten Navigieren\n",
    "\n",
    "**Navigieren durch Angabe der Tags**\n",
    "\n",
    "- einfachste Form der Navigation die schon zur Selektion genutzt wurde"
   ]
  },
  {
   "cell_type": "code",
   "execution_count": null,
   "id": "pointed-billion",
   "metadata": {},
   "outputs": [],
   "source": [
    "print(soup.body.p.a)"
   ]
  },
  {
   "cell_type": "markdown",
   "id": "addressed-manner",
   "metadata": {},
   "source": [
    "**Navigieren mit ```.contents``` und ```.children```**\n",
    "\n",
    "- beide Funkionen liefern die direkten Kindelemente des angegebenen Tags \n",
    "- wichtig: auch Text und Zeilenumbrüche sind als eigenständige Elemente zu betrachten\n",
    "- ```.contents``` gibt eine Liste mit allen Kindelementen des Tags zurück\n",
    "- ```.children``` gibt einen Iterator zurück"
   ]
  },
  {
   "cell_type": "code",
   "execution_count": null,
   "id": "fancy-identity",
   "metadata": {},
   "outputs": [],
   "source": [
    "print(soup.body.contents)\n",
    "print(soup.body.children)\n",
    "for child in soup.body.children:\n",
    "    print(child)"
   ]
  },
  {
   "cell_type": "markdown",
   "id": "unable-stewart",
   "metadata": {},
   "source": [
    "**Navigieren mit ```.descendants```**\n",
    "- gibt eine Liste mit allen in dem Tag befindlichen Elemente zurück\n",
    "    - nicht nur die direkten Kindelemente \n",
    "- Leerzielen und Text werden auch hier als eigenständige Elemente betrachtet \n",
    "   "
   ]
  },
  {
   "cell_type": "code",
   "execution_count": null,
   "id": "raising-cancer",
   "metadata": {},
   "outputs": [],
   "source": [
    "for d in soup.body.descendants:\n",
    "    print(d)"
   ]
  },
  {
   "cell_type": "markdown",
   "id": "promotional-wonder",
   "metadata": {},
   "source": [
    "## Nach oben Navigieren\n",
    "\n",
    "**Navieren mit ```.parent``` und ```.parents```**\n",
    " \n",
    " - gibt das Elternelement / eine liste der Elternelemente des angegebenen Tags zurück  "
   ]
  },
  {
   "cell_type": "code",
   "execution_count": null,
   "id": "cellular-finance",
   "metadata": {},
   "outputs": [],
   "source": [
    "print(soup.body.p.a.parent)"
   ]
  },
  {
   "cell_type": "code",
   "execution_count": null,
   "id": "ahead-terry",
   "metadata": {},
   "outputs": [],
   "source": [
    "for parent in soup.body.p.a.parents:\n",
    "    print(parent)"
   ]
  },
  {
   "cell_type": "markdown",
   "id": "gorgeous-resort",
   "metadata": {},
   "source": [
    "## Seitwärts Navigieren"
   ]
  },
  {
   "cell_type": "markdown",
   "id": "fatty-fruit",
   "metadata": {},
   "source": [
    "**Navigieren mit ```.next_sibling``` und ```.previous_sibling```**\n",
    "\n",
    "- navigiert zu nächsten/vorherigen Geschwisterelement  \n",
    "- wichtig: Text und Zeilenumbrüche sind auch hier eigenständige Elemente\n",
    "- ```.next_siblings``` und ```previous_siblings``` gibt eine Liste aller nachfolgenden bzw. vorhergehenden Geschwisterelemente zurück"
   ]
  },
  {
   "cell_type": "code",
   "execution_count": null,
   "id": "egyptian-banks",
   "metadata": {},
   "outputs": [],
   "source": [
    "print(soup.body.p.next_sibling) # --> Zeilenumbruch\n",
    "print(soup.body.p.next_sibling.next_sibling)\n",
    "print(soup.body.p.previous_sibling) # --> Zeilenumbruch\n",
    "print(soup.body.p.previous_sibling.previous_sibling) "
   ]
  },
  {
   "cell_type": "code",
   "execution_count": null,
   "id": "olympic-amplifier",
   "metadata": {},
   "outputs": [],
   "source": [
    "for next_sibling in soup.body.p.next_siblings:\n",
    "    print(next_sibling)\n",
    "\n",
    "    \n",
    "for previous_sibling in soup.body.p.previous_siblings:\n",
    "    print(previous_sibling)"
   ]
  }
 ],
 "metadata": {
  "kernelspec": {
   "display_name": "Python 3 (ipykernel)",
   "language": "python",
   "name": "python3"
  },
  "language_info": {
   "codemirror_mode": {
    "name": "ipython",
    "version": 3
   },
   "file_extension": ".py",
   "mimetype": "text/x-python",
   "name": "python",
   "nbconvert_exporter": "python",
   "pygments_lexer": "ipython3",
   "version": "3.9.6"
  }
 },
 "nbformat": 4,
 "nbformat_minor": 5
}
