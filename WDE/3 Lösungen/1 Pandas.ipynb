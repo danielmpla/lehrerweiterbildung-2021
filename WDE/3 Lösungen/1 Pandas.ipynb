{
 "cells": [
  {
   "cell_type": "markdown",
   "id": "mineral-european",
   "metadata": {},
   "source": [
    "# Aufgabe 2: Pandas applied\n",
    "\n",
    "## Aufgabenstellung:\n",
    "\n",
    "Nutzen Sie Pandas, um aus der zur Verfügung gestellten Test-Webseite die enthaltene Tabelle mit den Informationen zum Bachelor-Studium Informatik zu extrahieren.\n",
    "\n",
    "## Lösung:"
   ]
  },
  {
   "cell_type": "code",
   "execution_count": 7,
   "id": "golden-dairy",
   "metadata": {},
   "outputs": [
    {
     "data": {
      "text/html": [
       "<div>\n",
       "<style scoped>\n",
       "    .dataframe tbody tr th:only-of-type {\n",
       "        vertical-align: middle;\n",
       "    }\n",
       "\n",
       "    .dataframe tbody tr th {\n",
       "        vertical-align: top;\n",
       "    }\n",
       "\n",
       "    .dataframe thead th {\n",
       "        text-align: right;\n",
       "    }\n",
       "</style>\n",
       "<table border=\"1\" class=\"dataframe\">\n",
       "  <thead>\n",
       "    <tr style=\"text-align: right;\">\n",
       "      <th></th>\n",
       "      <th>0</th>\n",
       "      <th>1</th>\n",
       "    </tr>\n",
       "  </thead>\n",
       "  <tbody>\n",
       "    <tr>\n",
       "      <th>0</th>\n",
       "      <td>Fakultät:</td>\n",
       "      <td>Elektrotechnik und Informatik</td>\n",
       "    </tr>\n",
       "    <tr>\n",
       "      <th>1</th>\n",
       "      <td>Standort:</td>\n",
       "      <td>Görlitz</td>\n",
       "    </tr>\n",
       "    <tr>\n",
       "      <th>2</th>\n",
       "      <td>Studienabschluss:</td>\n",
       "      <td>Bachelor of Science</td>\n",
       "    </tr>\n",
       "    <tr>\n",
       "      <th>3</th>\n",
       "      <td>Regelstudienzeit:</td>\n",
       "      <td>6 Semester</td>\n",
       "    </tr>\n",
       "    <tr>\n",
       "      <th>4</th>\n",
       "      <td>ECTS-Punkte:</td>\n",
       "      <td>180</td>\n",
       "    </tr>\n",
       "    <tr>\n",
       "      <th>5</th>\n",
       "      <td>Immatrikulation zum:</td>\n",
       "      <td>Wintersemester</td>\n",
       "    </tr>\n",
       "    <tr>\n",
       "      <th>6</th>\n",
       "      <td>Zulassungsbeschränkung:</td>\n",
       "      <td>keine</td>\n",
       "    </tr>\n",
       "  </tbody>\n",
       "</table>\n",
       "</div>"
      ],
      "text/plain": [
       "                         0                              1\n",
       "0                Fakultät:  Elektrotechnik und Informatik\n",
       "1                Standort:                        Görlitz\n",
       "2        Studienabschluss:            Bachelor of Science\n",
       "3        Regelstudienzeit:                     6 Semester\n",
       "4             ECTS-Punkte:                            180\n",
       "5     Immatrikulation zum:                 Wintersemester\n",
       "6  Zulassungsbeschränkung:                          keine"
      ]
     },
     "execution_count": 7,
     "metadata": {},
     "output_type": "execute_result"
    }
   ],
   "source": [
    "import requests\n",
    "import pandas\n",
    "#import lxml\n",
    "\n",
    "try:\n",
    "    with open(\"../website/index.html\", \"r\", encoding=\"UTF-8\") as file:\n",
    "        html = file.read()\n",
    "\n",
    "        #Parsen des HTML mit Pandas\n",
    "        tables = pandas.read_html(html)\n",
    "\n",
    "except FileNotFoundError:\n",
    "    print(\"Datei nicht gefunden. Bitte den angegebenen Pfad überprüfen.\")\n",
    "\n",
    "#Auslesen der Tabelle (aufgrund von JupyterLab sehr komfortabel):\n",
    "tables[0]\n",
    "\n",
    "#Wahlweise unter Nutzung von print():\n",
    "#print(tables[0])"
   ]
  }
 ],
 "metadata": {
  "kernelspec": {
   "display_name": "Python 3 (ipykernel)",
   "language": "python",
   "name": "python3"
  },
  "language_info": {
   "codemirror_mode": {
    "name": "ipython",
    "version": 3
   },
   "file_extension": ".py",
   "mimetype": "text/x-python",
   "name": "python",
   "nbconvert_exporter": "python",
   "pygments_lexer": "ipython3",
   "version": "3.9.6"
  }
 },
 "nbformat": 4,
 "nbformat_minor": 5
}
