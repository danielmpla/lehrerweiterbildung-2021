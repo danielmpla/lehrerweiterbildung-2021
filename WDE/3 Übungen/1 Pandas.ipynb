{
 "cells": [
  {
   "cell_type": "markdown",
   "id": "elegant-laundry",
   "metadata": {},
   "source": [
    "# Aufgabe 2: Pandas applied\n",
    "\n",
    "## Aufgabenstellung:\n",
    "\n",
    "Nutzen Sie Pandas, um aus der zur Verfügung gestellten Test-Webseite die enthaltene Tabelle mit den Informationen zum Bachelor-Studium Informatik zu extrahieren.\n",
    "\n",
    "## Lösung:"
   ]
  },
  {
   "cell_type": "code",
   "execution_count": 4,
   "id": "coral-bachelor",
   "metadata": {},
   "outputs": [],
   "source": [
    "import requests\n",
    "import pandas\n",
    "#import lxml\n",
    "\n",
    "try:\n",
    "    with open(\"../website/index.html\", \"r\", encoding=\"UTF-8\") as file:\n",
    "        html = file.read()\n",
    "\n",
    "        #Ihren Code hier ergänzen:\n",
    "        #TODO 1) Parsen des HTML mit Pandas\n",
    "\n",
    "except FileNotFoundError:\n",
    "    print(\"Datei nicht gefunden. Bitte den angegebenen Pfad überprüfen.\")\n",
    "\n",
    "#TODO 2) hier ergänzen: Auslesen der Tabelle"
   ]
  }
 ],
 "metadata": {
  "kernelspec": {
   "display_name": "Python 3 (ipykernel)",
   "language": "python",
   "name": "python3"
  },
  "language_info": {
   "codemirror_mode": {
    "name": "ipython",
    "version": 3
   },
   "file_extension": ".py",
   "mimetype": "text/x-python",
   "name": "python",
   "nbconvert_exporter": "python",
   "pygments_lexer": "ipython3",
   "version": "3.9.6"
  }
 },
 "nbformat": 4,
 "nbformat_minor": 5
}
