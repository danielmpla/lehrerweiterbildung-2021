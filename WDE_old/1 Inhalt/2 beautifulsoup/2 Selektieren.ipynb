{
 "cells": [
  {
   "cell_type": "markdown",
   "id": "awful-purse",
   "metadata": {},
   "source": [
    "# Suchen von Elementen im DOM"
   ]
  },
  {
   "cell_type": "markdown",
   "id": "contrary-burlington",
   "metadata": {},
   "source": [
    "## Suchen von HTML Tags \n",
    "\n",
    "- einfachste Methode zum suchen von HTML-Elementen\n",
    "- die Methode liefert einen Tag zurück, welches weiter durchsucht oder dessen Inhalt extrahiert werden kann\n",
    "- existiert der angegbene Tag nicht liefert die Methode ```None``` zurück\n",
    "\n",
    "**Vorteile**\n",
    "- sehr einfache und gut lesbare Methode\n",
    "- sehr schnell in der Ausführung\n",
    "**Nachteil**\n",
    "- Es wird immer nur der im DOM zuerst auftretende Tag gefunden\n",
    "    - suchen von mehreren Tags gleichen Typs ist nicht möglich  \n",
    "    - iterieren über mehrere Tags ist nicht möglich\n",
    "- Keine spezifischere Suche über CSS-Selektoren, wie Klassen der ID's möglich"
   ]
  },
  {
   "cell_type": "code",
   "execution_count": 13,
   "id": "infrared-field",
   "metadata": {},
   "outputs": [
    {
     "name": "stdout",
     "output_type": "stream",
     "text": [
      "<class 'bs4.element.Tag'>\n",
      "<p>Das <b>Suchen von Tags</b> ist eine sehr einache Methode die einige Einschränkungen hat.</p>\n",
      "<b>Suchen von Tags</b>\n"
     ]
    }
   ],
   "source": [
    "# Suchen von Tags\n",
    "from bs4 import BeautifulSoup\n",
    "\n",
    "markup = \"<p>Das <b>Suchen von Tags</b> ist eine sehr einache Methode die einige Einschränkungen hat.</p><p>Es wird bspw. immer nur der erste gefundene Tag im DOM zurückgegeben</p>\"\n",
    "soup = BeautifulSoup(markup, \"html.parser\")\n",
    "\n",
    "print(soup.p)\n",
    "print(soup.p.b)"
   ]
  },
  {
   "cell_type": "markdown",
   "id": "right-assembly",
   "metadata": {
    "slideshow": {
     "slide_type": "slide"
    },
    "tags": []
   },
   "source": [
    "## Suche mit ```.find_all()```\n",
    "\n",
    "- suchen von Tags mit spezifischen Eigenschaften\n",
    "- Es können CSS Klassen, Id's und andere Eigenschaften zur Suche verwendet werden\n",
    "- Liefert eine Liste von Resultaten \n",
    "    - gibt eine leere Liste zurück, wenn kein Element die Kriterien erfüllt\n",
    "    - Jedes Element der Liste ist wiederrum ein Tag der weiter durchsucht oder extrahiert werden kann\n",
    "- die Methode ```find()``` funktioniert gleich aber liefert wieder nur ein Element zurück\n",
    "    - treffen die Kriterien auf mehrere Elemente zu wird das erste zurückgegeben\n",
    "    - treffen die Kriterien auf keines der Elemente zu wird ```None``` zurückgegeben"
   ]
  },
  {
   "cell_type": "markdown",
   "id": "empty-swiss",
   "metadata": {
    "slideshow": {
     "slide_type": "slide"
    },
    "tags": []
   },
   "source": [
    " \n",
    "**Vorteile**\n",
    "- feingranulare und gut lesbare Kriterien zur Suche der Tags\n",
    "- findet alle auf der Website befindlichen Elemente auf welche die Kriterien zutreffen\n",
    "- ermöglicht die Suche nach bestimmten String im HTML Dokument und sucht die entsprechenden HTML Tags \n",
    "\n",
    "**Nachteile**\n",
    "- um Tags ohne spezifische Id's oder eindeutige Klassen zu suchen, muss die ```.find_all()``` Methode mehrfach mit angepassten Kriterien ausgeführt werden "
   ]
  },
  {
   "cell_type": "code",
   "execution_count": 6,
   "id": "chief-gather",
   "metadata": {},
   "outputs": [
    {
     "name": "stdout",
     "output_type": "stream",
     "text": [
      "[<h1 class=\"text-bold\">CSS-Selektoren</h1>]\n",
      "[<h1 class=\"text-bold\">CSS-Selektoren</h1>, <a href=\"#\">HTML</a>]\n",
      "[<p class=\"text-bold\">CSS-Selektoren ermöglichen das identifizieren von <a href=\"#\">HTML</a> Emelenten</p>]\n",
      "[<p class=\"text-bold\">CSS-Selektoren ermöglichen das identifizieren von <a href=\"#\">HTML</a> Emelenten</p>]\n",
      "[<p class=\"text-underline\" id=\"paragraph\">Es können Tags, Klassen und Id`s genutzt werden</p>]\n",
      "[<a href=\"#\">HTML</a>]\n",
      "[<a href=\"#\">HTML</a>]\n",
      "[<a href=\"#\">HTML</a>]\n"
     ]
    }
   ],
   "source": [
    "markup = \"\"\"<body>\n",
    "            <h1 class='text-bold'>CSS-Selektoren</h1>\n",
    "            <p class='text-bold'>CSS-Selektoren ermöglichen das identifizieren von <a href='#'>HTML</a> Elementen</p>\n",
    "            <p id='paragraph' class='text-underline'>Es können Tags, Klassen und Id`s genutzt werden</p>\n",
    "            </body>\"\"\"\n",
    "soup = BeautifulSoup(markup, \"html.parser\")\n",
    "    \n",
    "print(soup.find_all(\"h1\"))\n",
    "print(soup.find_all([\"h1\", \"a\"]))\n",
    "print(soup.find_all(\"p\", class_=\"text-bold\"))\n",
    "print(soup.find_all(\"p\", \"text-bold\"))\n",
    "print(soup.find_all(id=\"paragraph\"))\n",
    "print(soup.find_all(href=True))\n",
    "print(soup.find_all(href=\"#\"))\n",
    "print(soup.find_all(\"a\", string=\"HTML\"))"
   ]
  },
  {
   "cell_type": "markdown",
   "id": "introductory-effort",
   "metadata": {
    "slideshow": {
     "slide_type": "slide"
    },
    "tags": []
   },
   "source": [
    "## Exkurs CSS-Selektoren\n",
    "\n",
    "- genutzt um HTML Elemente zu selektieren um deren Gestaltung anzupassen\n",
    "- Unterscheidung in Tags, Klassen, Id's und Pseudeoklassen\n",
    "    - Kombinationen und erweiterte synatktische Methoden zur Selekion   "
   ]
  },
  {
   "cell_type": "markdown",
   "id": "following-governor",
   "metadata": {},
   "source": [
    "```html\n",
    "<!DOCTYPE html>\n",
    "<html lang=\"de\">\n",
    "    <head>\n",
    "        <style type=\"style/css\">\n",
    "            p {\n",
    "                color: rgb(50, 50, 50);\n",
    "                font-size: medium;\n",
    "            }\n",
    "            h1 {\n",
    "                font-size: large;\n",
    "            }\n",
    "            #paragraph {\n",
    "                font-weight: lighter;\n",
    "            }\n",
    "            .text-bold {\n",
    "                font-weight: bold;\n",
    "            }\n",
    "            p.text-bold {\n",
    "                text-decoration: underline;\n",
    "            }\n",
    "        </style>\n",
    "    </head>\n",
    "    <body>\n",
    "        <h1 class=\"text-bold\">CSS-Selektoren</h1>\n",
    "        <p class=\"text-bold\">CSS-Selektoren ermöglichen das identifizieren von HTML Elementen</p>\n",
    "        <p id=\"paragraph\">Es können Tags, Klassen und Id's genutzt werden</p>\n",
    "    </body>\n",
    "</html>\n",
    "```"
   ]
  },
  {
   "cell_type": "markdown",
   "id": "destroyed-taiwan",
   "metadata": {
    "slideshow": {
     "slide_type": "slide"
    },
    "tags": []
   },
   "source": [
    "### CSS-Selektoren und mögliche Kombination\n",
    "<table style=\"float:left; font-size:1.1em\" >\n",
    "    <thead>\n",
    "        <tr>\n",
    "            <th>Selektor</th>\n",
    "            <th>Beispiel</th>\n",
    "            <th>Erklärung</th>\n",
    "        </tr>\n",
    "    </thead>\n",
    "    <tbody>\n",
    "        <tr>\n",
    "            <td>.class</td>\n",
    "            <td><code>.intro</code></td>\n",
    "            <td>selektiert alle Tags mit class=\"intro\"</td>\n",
    "        </tr>\n",
    "        <tr>\n",
    "            <td>.class.class</td>\n",
    "            <td><code>.name1.name2</code></td>\n",
    "            <td>selektiert alle Tags mit den Klassen .name1 und .name2 (class=\".name1.name2\")</td>\n",
    "        </tr>\n",
    "        <tr>\n",
    "            <td>.class .class</td>\n",
    "            <td><code>.name1 .name2</code></td>\n",
    "            <td>selektiert alle Kindtags mit class=\"name2\" bei deren Elterntag class=\"name1\"</td>\n",
    "        </tr>\n",
    "        <tr>\n",
    "            <td>#id</td>\n",
    "            <td><code>#intro</code></td>\n",
    "            <td>selektiert alle Tags mit id=\"intro\"</td>\n",
    "        </tr>\n",
    "        <tr>\n",
    "            <td>tag</td>\n",
    "            <td><code>p</code></td>\n",
    "            <td>selektiert alle &lt;p&gt; Tags</td>\n",
    "        </tr>\n",
    "        <tr>\n",
    "            <td>tag.class</td>\n",
    "            <td><code>p.intro</code></td>\n",
    "            <td>selektiert alle &lt;p&gt; Tags mit class=\"intro\"</td>\n",
    "        </tr>\n",
    "        <tr>\n",
    "            <td>tag,tag</td>\n",
    "            <td><code>div, p</code></td>\n",
    "            <td>selektiert alle &lt;div&gt; und &lt;p&gt; Elemente</td>\n",
    "        </tr>\n",
    "        <tr>\n",
    "            <td>tag tag</td>\n",
    "            <td><code>div p</code></td>\n",
    "            <td>selektiert alle &lt;p&gt; Tags inherhalb von &lt;p&gt; Tags</td>\n",
    "        </tr>\n",
    "        <tr>\n",
    "            <td>tag+tag</td>\n",
    "            <td><code>div + p</code></td>\n",
    "            <td>selectiert das erste &lt;p&gt; Tag das im DOM direkt nach einem &lt;div&gt; Tag kommen</td>\n",
    "        </tr>\n",
    "        <tr>\n",
    "            <td>tag>tag</td>\n",
    "            <td><code>div > p</code></td>\n",
    "            <td>selektiert alle &lt;p&gt; Tags deren Elterntags ein &lt;div&gt; ist</td>\n",
    "        </tr>\n",
    "        <tr>\n",
    "            <td>[attribute]</td>\n",
    "            <td><code>[href]</code></td>\n",
    "            <td>selektiert alle Tags die das href Attribut aufweisen</td>\n",
    "        </tr>\n",
    "        <tr>\n",
    "            <td>element[attribute=\"value\"]</td>\n",
    "            <td><code>a[target=\"_blank\"]</code></td>\n",
    "            <td>selektiert alle  &lt;a&gt; Tags mit dem Attribut target=\"_blank\"</td>\n",
    "        </tr>\n",
    "        <tr>\n",
    "            <td>element:pseudoclass</td>\n",
    "            <td><code>p:first-child</code></td>\n",
    "            <td>selektiert jedes &lt;p&gt; Tag, wenn es das Erste innerhalb seines Elterntags ist</td>\n",
    "        </tr>\n",
    "    </tbody>\n",
    "</table>"
   ]
  },
  {
   "cell_type": "markdown",
   "id": "asian-religious",
   "metadata": {},
   "source": [
    "## Suche mit ```.select()```\n",
    "\n",
    "- sucht alle Tags mit Hilfe von CSS-Selektoren\n",
    "- Liefert eine Liste von Resultaten \n",
    "    - gibt eine leere Liste zurück, wenn kein Element gefunden wird\n",
    "    - jedes Element der Liste ist wiedrum ein Tag der weiter durchsucht werden kann\n",
    "- die Methode ```.select_one()``` kann wieder zum suchen einzlner Tags genutzt werden\n",
    "\n",
    "**Vorteile**\n",
    "- Elemente können auch anhand ihrer Position im DOM gesucht werden\n",
    "    - Elemente ohne spezifische Eigenschaften können mit einem Methdenaufruf gesucht weden  \n",
    "\n",
    "**Nachteile**\n",
    "- langsamer als ```.find_all()```\n",
    "- schwerer lesbar"
   ]
  },
  {
   "cell_type": "code",
   "execution_count": 5,
   "id": "driving-healing",
   "metadata": {},
   "outputs": [
    {
     "name": "stdout",
     "output_type": "stream",
     "text": [
      "[<h1 class=\"text-bold\">CSS-Selektoren</h1>]\n",
      "[<h1 class=\"text-bold\">CSS-Selektoren</h1>, <a href=\"#\">HTML</a>]\n",
      "[<h1 class=\"text-bold\">CSS-Selektoren</h1>, <a href=\"#\">HTML</a>]\n",
      "[<p class=\"text-bold\">CSS-Selektoren ermöglichen das identifizieren von <a href=\"#\">HTML</a> Emelenten</p>]\n",
      "[<p id=\"paragraph\">Es können Tags, Klassen und Id`s genutzt werden</p>]\n",
      "[<a href=\"#\">HTML</a>]\n",
      "[<a href=\"#\">HTML</a>]\n"
     ]
    }
   ],
   "source": [
    "markup = \"\"\"<body>\n",
    "            <h1 class='text-bold'>CSS-Selektoren</h1>\n",
    "            <p class='text-bold'>CSS-Selektoren ermöglichen das identifizieren von <a href='#'>HTML</a> Elementen</p>\n",
    "            <p id='paragraph'>Es können Tags, Klassen und Id`s genutzt werden</p>\n",
    "            </body>\"\"\"\n",
    "soup = BeautifulSoup(markup, \"html.parser\")\n",
    "\n",
    "print(soup.select(\"h1\"))\n",
    "print(soup.select(\"h1, a\"))\n",
    "print(soup.select(\"h1, a\"))\n",
    "print(soup.select(\"p.text-bold\"))\n",
    "print(soup.select(\"#paragraph\"))\n",
    "print(soup.select(\"[href]\"))\n",
    "print(soup.select(\"[href='#']\"))"
   ]
  },
  {
   "cell_type": "code",
   "execution_count": null,
   "id": "intimate-architecture",
   "metadata": {},
   "outputs": [],
   "source": []
  }
 ],
 "metadata": {
  "kernelspec": {
   "display_name": "Python 3 (ipykernel)",
   "language": "python",
   "name": "python3"
  },
  "language_info": {
   "codemirror_mode": {
    "name": "ipython",
    "version": 3
   },
   "file_extension": ".py",
   "mimetype": "text/x-python",
   "name": "python",
   "nbconvert_exporter": "python",
   "pygments_lexer": "ipython3",
   "version": "3.9.6"
  }
 },
 "nbformat": 4,
 "nbformat_minor": 5
}
