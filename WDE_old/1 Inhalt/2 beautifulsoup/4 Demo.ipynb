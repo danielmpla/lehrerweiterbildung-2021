{
 "cells": [
  {
   "cell_type": "markdown",
   "id": "cellular-running",
   "metadata": {},
   "source": [
    "# Demonstration - Extraktion der News-Artikel der Hochschulseite "
   ]
  },
  {
   "cell_type": "code",
   "execution_count": null,
   "id": "eleven-smoke",
   "metadata": {},
   "outputs": [],
   "source": [
    "import requests\n",
    "from bs4 import BeautifulSoup"
   ]
  },
  {
   "cell_type": "code",
   "execution_count": null,
   "id": "wicked-kitchen",
   "metadata": {},
   "outputs": [],
   "source": [
    "request = requests.get(\"https://www.hszg.de/hochschule/aktuelles/neuigkeiten\")\n",
    "if request.status_code == 200:\n",
    "    html = request.content\n",
    "    print(\"HTML Dokument erfolgreich geladen.\")\n",
    "else: \n",
    "    print(\"Fehler beim laden der Website!\")\n",
    "    html = \"\"\n",
    "print(\"Zeichenanzahl des HTML Dokuments: \" + str(len(html)))"
   ]
  },
  {
   "cell_type": "code",
   "execution_count": null,
   "id": "stupid-contract",
   "metadata": {},
   "outputs": [],
   "source": [
    "soup = BeautifulSoup(html, \"html.parser\")"
   ]
  },
  {
   "cell_type": "code",
   "execution_count": null,
   "id": "chicken-parking",
   "metadata": {},
   "outputs": [],
   "source": [
    "news_articles = soup.find_all(class_=\"news-article\")"
   ]
  },
  {
   "cell_type": "code",
   "execution_count": null,
   "id": "vanilla-quarterly",
   "metadata": {},
   "outputs": [],
   "source": [
    "news_articles[0]"
   ]
  },
  {
   "cell_type": "code",
   "execution_count": null,
   "id": "mechanical-darkness",
   "metadata": {},
   "outputs": [],
   "source": [
    "heading = news_articles[0].span.string\n",
    "link = news_articles[0].find(\"a\").attrs[\"href\"]\n",
    "teaser = news_articles[0].select_one(\".news-article__teaser\").text.strip()\n",
    "date = news_articles[0].select_one(\".news-article__date\").text\n",
    "\n",
    "print(heading)\n",
    "print(teaser)\n",
    "print(link)\n",
    "print(date)"
   ]
  },
  {
   "cell_type": "code",
   "execution_count": null,
   "id": "egyptian-terrain",
   "metadata": {},
   "outputs": [],
   "source": [
    "def extract_article_information(article):\n",
    "    article_info = {}\n",
    "    article_info[\"heading\"] = article.span.string \n",
    "    article_info[\"teaser\"] = article.select_one(\".news-article__teaser\").text.strip()\n",
    "    article_info[\"date\"] = article.select_one(\".news-article__date\").text\n",
    "    article_info[\"link\"] = article.find(\"a\").attrs[\"href\"]\n",
    "    return article_info"
   ]
  },
  {
   "cell_type": "code",
   "execution_count": null,
   "id": "mighty-catholic",
   "metadata": {},
   "outputs": [],
   "source": [
    "extract_article_information(news_articles[0])"
   ]
  },
  {
   "cell_type": "code",
   "execution_count": null,
   "id": "severe-paintball",
   "metadata": {},
   "outputs": [],
   "source": [
    "for article in news_articles:\n",
    "    print(extract_article_information(article))"
   ]
  }
 ],
 "metadata": {
  "kernelspec": {
   "display_name": "Python 3 (ipykernel)",
   "language": "python",
   "name": "python3"
  },
  "language_info": {
   "codemirror_mode": {
    "name": "ipython",
    "version": 3
   },
   "file_extension": ".py",
   "mimetype": "text/x-python",
   "name": "python",
   "nbconvert_exporter": "python",
   "pygments_lexer": "ipython3",
   "version": "3.9.6"
  }
 },
 "nbformat": 4,
 "nbformat_minor": 5
}
