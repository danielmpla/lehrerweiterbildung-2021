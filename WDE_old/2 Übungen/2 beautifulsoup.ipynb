{
 "cells": [
  {
   "cell_type": "markdown",
   "id": "swiss-knitting",
   "metadata": {},
   "source": [
    "# Übungsaufgabe 2: Extrahieren der Perspektiven als Informatiker (mit Beautiful Soup)"
   ]
  },
  {
   "cell_type": "code",
   "execution_count": 1,
   "id": "prepared-gentleman",
   "metadata": {},
   "outputs": [
    {
     "name": "stdout",
     "output_type": "stream",
     "text": [
      "HTML Dokument erfolgreich geladen.\n",
      "Zeichenanzahl des HTML Dokuments: 7189\n",
      "Systementwickler\n",
      "Systemanalytiker\n",
      "Systemprogrammierer\n",
      "Softwareentwickler\n",
      "Organisationsprogrammierer\n",
      "Anwendungsentwickler\n",
      "Software-Ingenieur\n",
      "Medieninformatiker\n",
      "Medienentwickler\n",
      "Entwickler für multimediale Anwendungen\n",
      "Multimedia-Techniker\n",
      "Netzwerkbetreuer\n",
      "Netzwerkadministrator\n",
      "Netzwerkentwickler\n",
      "Datenbankentwickler\n",
      "Informationsmanager\n",
      "Datenbankadministrator\n",
      "Informations- und Kommunikationsmanager\n",
      "Problemanalytiker\n",
      "Projektentwickler\n",
      "Organisator\n",
      "Wirtschaftsinformatiker\n",
      "Technischer Informatiker\n",
      "CIM-Berater\n",
      "CAD-Berater\n"
     ]
    }
   ],
   "source": [
    "from bs4 import BeautifulSoup\n",
    "\n",
    "try:\n",
    "    with open(\"../website/index.html\", \"r\", encoding=\"UTF-8\") as file:\n",
    "        html = file.read()\n",
    "        print(\"HTML Dokument erfolgreich geladen.\")\n",
    "        print(f'Zeichenanzahl des HTML Dokuments: {len(html)}')\n",
    "except FileNotFoundError:\n",
    "    print(\"Datei nicht gefunden. Bitte den angegebenen Pfad überprüfen.\")\n",
    "    \n",
    "soup = BeautifulSoup(html, \"html.parser\")\n",
    "#Hier Ihren Code:\n",
    "#TODO 1) Listenelemente finden\n",
    "#TODO 2) Treffer iterieren"
   ]
  },
  {
   "cell_type": "code",
   "execution_count": null,
   "id": "indoor-monroe",
   "metadata": {},
   "outputs": [],
   "source": []
  }
 ],
 "metadata": {
  "kernelspec": {
   "display_name": "Python 3 (ipykernel)",
   "language": "python",
   "name": "python3"
  },
  "language_info": {
   "codemirror_mode": {
    "name": "ipython",
    "version": 3
   },
   "file_extension": ".py",
   "mimetype": "text/x-python",
   "name": "python",
   "nbconvert_exporter": "python",
   "pygments_lexer": "ipython3",
   "version": "3.9.6"
  }
 },
 "nbformat": 4,
 "nbformat_minor": 5
}
